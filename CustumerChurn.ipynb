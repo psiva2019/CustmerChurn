{
  "nbformat": 4,
  "nbformat_minor": 0,
  "metadata": {
    "orig_nbformat": 4,
    "language_info": {
      "name": "python",
      "version": "3.9.6",
      "mimetype": "text/x-python",
      "codemirror_mode": {
        "name": "ipython",
        "version": 3
      },
      "pygments_lexer": "ipython3",
      "nbconvert_exporter": "python",
      "file_extension": ".py"
    },
    "kernelspec": {
      "name": "python3",
      "display_name": "Python 3.9.6 64-bit ('siva': conda)"
    },
    "interpreter": {
      "hash": "d59c341ed32160242370476a4d4f1c9ff647ac91b54f108dc9cb6abb4d107ffd"
    },
    "colab": {
      "name": "CustumerChurn.ipynb",
      "provenance": []
    },
    "accelerator": "TPU"
  },
  "cells": [
    {
      "cell_type": "code",
      "metadata": {
        "id": "1Y2grqJbA5WK"
      },
      "source": [
        "#  !pip install sidetable\n",
        "#  !pip install tabulate"
      ],
      "execution_count": 11,
      "outputs": []
    },
    {
      "cell_type": "code",
      "metadata": {
        "id": "D2xM3Jmw-ipG"
      },
      "source": [
        "import pandas as pd;import warnings\n",
        "warnings.filterwarnings('ignore')\n",
        "\n",
        "import pandas as pd\n",
        "import numpy as np\n",
        "import seaborn as sns\n",
        "import matplotlib.pyplot as plt\n",
        "\n",
        "import sidetable as stb\n",
        "\n",
        "from IPython.display import HTML, display\n",
        "import tabulate\n",
        "%matplotlib inline"
      ],
      "execution_count": 12,
      "outputs": []
    },
    {
      "cell_type": "markdown",
      "metadata": {
        "id": "me5UFTK8-ipP"
      },
      "source": [
        "## Read the data to Pandas Data Frame"
      ]
    },
    {
      "cell_type": "code",
      "metadata": {
        "colab": {
          "base_uri": "https://localhost:8080/",
          "height": 0
        },
        "id": "WnziSl7Y-ipQ",
        "outputId": "231a996d-7d1f-44c6-ffc7-6382d18fe062"
      },
      "source": [
        "df = pd.read_csv(\"https://raw.githubusercontent.com/psiva2019/CustmerChurn/master/CustumerChurnData.csv\",error_bad_lines=False)\n",
        "df.head()"
      ],
      "execution_count": 13,
      "outputs": [
        {
          "output_type": "execute_result",
          "data": {
            "text/html": [
              "<div>\n",
              "<style scoped>\n",
              "    .dataframe tbody tr th:only-of-type {\n",
              "        vertical-align: middle;\n",
              "    }\n",
              "\n",
              "    .dataframe tbody tr th {\n",
              "        vertical-align: top;\n",
              "    }\n",
              "\n",
              "    .dataframe thead th {\n",
              "        text-align: right;\n",
              "    }\n",
              "</style>\n",
              "<table border=\"1\" class=\"dataframe\">\n",
              "  <thead>\n",
              "    <tr style=\"text-align: right;\">\n",
              "      <th></th>\n",
              "      <th>AccountID</th>\n",
              "      <th>Churn</th>\n",
              "      <th>Tenure</th>\n",
              "      <th>City_Tier</th>\n",
              "      <th>CC_Contacted_LY</th>\n",
              "      <th>Payment</th>\n",
              "      <th>Gender</th>\n",
              "      <th>Service_Score</th>\n",
              "      <th>Account_user_count</th>\n",
              "      <th>account_segment</th>\n",
              "      <th>CC_Agent_Score</th>\n",
              "      <th>Marital_Status</th>\n",
              "      <th>rev_per_month</th>\n",
              "      <th>Complain_ly</th>\n",
              "      <th>rev_growth_yoy</th>\n",
              "      <th>coupon_used_for_payment</th>\n",
              "      <th>Day_Since_CC_connect</th>\n",
              "      <th>cashback</th>\n",
              "      <th>Login_device</th>\n",
              "    </tr>\n",
              "  </thead>\n",
              "  <tbody>\n",
              "    <tr>\n",
              "      <th>0</th>\n",
              "      <td>20000</td>\n",
              "      <td>1</td>\n",
              "      <td>4</td>\n",
              "      <td>3.0</td>\n",
              "      <td>6.0</td>\n",
              "      <td>Debit Card</td>\n",
              "      <td>Female</td>\n",
              "      <td>3.0</td>\n",
              "      <td>3</td>\n",
              "      <td>Super</td>\n",
              "      <td>2.0</td>\n",
              "      <td>Single</td>\n",
              "      <td>9</td>\n",
              "      <td>1.0</td>\n",
              "      <td>11</td>\n",
              "      <td>1</td>\n",
              "      <td>5</td>\n",
              "      <td>160</td>\n",
              "      <td>Mobile</td>\n",
              "    </tr>\n",
              "    <tr>\n",
              "      <th>1</th>\n",
              "      <td>20001</td>\n",
              "      <td>1</td>\n",
              "      <td>0</td>\n",
              "      <td>1.0</td>\n",
              "      <td>8.0</td>\n",
              "      <td>UPI</td>\n",
              "      <td>Male</td>\n",
              "      <td>3.0</td>\n",
              "      <td>4</td>\n",
              "      <td>Regular Plus</td>\n",
              "      <td>3.0</td>\n",
              "      <td>Single</td>\n",
              "      <td>7</td>\n",
              "      <td>1.0</td>\n",
              "      <td>15</td>\n",
              "      <td>0</td>\n",
              "      <td>0</td>\n",
              "      <td>121</td>\n",
              "      <td>Mobile</td>\n",
              "    </tr>\n",
              "    <tr>\n",
              "      <th>2</th>\n",
              "      <td>20002</td>\n",
              "      <td>1</td>\n",
              "      <td>0</td>\n",
              "      <td>1.0</td>\n",
              "      <td>30.0</td>\n",
              "      <td>Debit Card</td>\n",
              "      <td>Male</td>\n",
              "      <td>2.0</td>\n",
              "      <td>4</td>\n",
              "      <td>Regular Plus</td>\n",
              "      <td>3.0</td>\n",
              "      <td>Single</td>\n",
              "      <td>6</td>\n",
              "      <td>1.0</td>\n",
              "      <td>14</td>\n",
              "      <td>0</td>\n",
              "      <td>3</td>\n",
              "      <td>NaN</td>\n",
              "      <td>Mobile</td>\n",
              "    </tr>\n",
              "    <tr>\n",
              "      <th>3</th>\n",
              "      <td>20003</td>\n",
              "      <td>1</td>\n",
              "      <td>0</td>\n",
              "      <td>3.0</td>\n",
              "      <td>15.0</td>\n",
              "      <td>Debit Card</td>\n",
              "      <td>Male</td>\n",
              "      <td>2.0</td>\n",
              "      <td>4</td>\n",
              "      <td>Super</td>\n",
              "      <td>5.0</td>\n",
              "      <td>Single</td>\n",
              "      <td>8</td>\n",
              "      <td>0.0</td>\n",
              "      <td>23</td>\n",
              "      <td>0</td>\n",
              "      <td>3</td>\n",
              "      <td>134</td>\n",
              "      <td>Mobile</td>\n",
              "    </tr>\n",
              "    <tr>\n",
              "      <th>4</th>\n",
              "      <td>20004</td>\n",
              "      <td>1</td>\n",
              "      <td>0</td>\n",
              "      <td>1.0</td>\n",
              "      <td>12.0</td>\n",
              "      <td>Credit Card</td>\n",
              "      <td>Male</td>\n",
              "      <td>2.0</td>\n",
              "      <td>3</td>\n",
              "      <td>Regular Plus</td>\n",
              "      <td>5.0</td>\n",
              "      <td>Single</td>\n",
              "      <td>3</td>\n",
              "      <td>0.0</td>\n",
              "      <td>11</td>\n",
              "      <td>1</td>\n",
              "      <td>3</td>\n",
              "      <td>130</td>\n",
              "      <td>Mobile</td>\n",
              "    </tr>\n",
              "  </tbody>\n",
              "</table>\n",
              "</div>"
            ],
            "text/plain": [
              "   AccountID  Churn Tenure  ...  Day_Since_CC_connect  cashback Login_device\n",
              "0      20000      1      4  ...                     5       160       Mobile\n",
              "1      20001      1      0  ...                     0       121       Mobile\n",
              "2      20002      1      0  ...                     3       NaN       Mobile\n",
              "3      20003      1      0  ...                     3       134       Mobile\n",
              "4      20004      1      0  ...                     3       130       Mobile\n",
              "\n",
              "[5 rows x 19 columns]"
            ]
          },
          "metadata": {},
          "execution_count": 13
        }
      ]
    },
    {
      "cell_type": "markdown",
      "metadata": {
        "id": "uwQo31wf-ipT"
      },
      "source": [
        "## Data Report"
      ]
    },
    {
      "cell_type": "code",
      "metadata": {
        "colab": {
          "base_uri": "https://localhost:8080/"
        },
        "id": "WpgyFFnb-ipU",
        "outputId": "227948b7-2b14-43f9-ddef-4604262afb41"
      },
      "source": [
        "#Shape of the Data\n",
        "print('****Shape of the hotel data****')\n",
        "print('********************************')\n",
        "print('No of rows\\t:\\t{}\\nNo of columns\\t:\\t{}'.format(df.shape[0],df.shape[1]))"
      ],
      "execution_count": 14,
      "outputs": [
        {
          "output_type": "stream",
          "text": [
            "****Shape of the hotel data****\n",
            "********************************\n",
            "No of rows\t:\t11260\n",
            "No of columns\t:\t19\n"
          ],
          "name": "stdout"
        }
      ]
    },
    {
      "cell_type": "code",
      "metadata": {
        "colab": {
          "base_uri": "https://localhost:8080/"
        },
        "id": "csPUG3yx-ipV",
        "outputId": "5efdc903-42cf-4130-93ce-a416497b044f"
      },
      "source": [
        "print('****Show infomation of the train data****')\n",
        "print('***********************************')\n",
        "df.info()"
      ],
      "execution_count": 15,
      "outputs": [
        {
          "output_type": "stream",
          "text": [
            "****Show infomation of the train data****\n",
            "***********************************\n",
            "<class 'pandas.core.frame.DataFrame'>\n",
            "RangeIndex: 11260 entries, 0 to 11259\n",
            "Data columns (total 19 columns):\n",
            " #   Column                   Non-Null Count  Dtype  \n",
            "---  ------                   --------------  -----  \n",
            " 0   AccountID                11260 non-null  int64  \n",
            " 1   Churn                    11260 non-null  int64  \n",
            " 2   Tenure                   11158 non-null  object \n",
            " 3   City_Tier                11148 non-null  float64\n",
            " 4   CC_Contacted_LY          11158 non-null  float64\n",
            " 5   Payment                  11151 non-null  object \n",
            " 6   Gender                   11152 non-null  object \n",
            " 7   Service_Score            11162 non-null  float64\n",
            " 8   Account_user_count       11148 non-null  object \n",
            " 9   account_segment          11163 non-null  object \n",
            " 10  CC_Agent_Score           11144 non-null  float64\n",
            " 11  Marital_Status           11048 non-null  object \n",
            " 12  rev_per_month            11158 non-null  object \n",
            " 13  Complain_ly              10903 non-null  float64\n",
            " 14  rev_growth_yoy           11260 non-null  object \n",
            " 15  coupon_used_for_payment  11260 non-null  object \n",
            " 16  Day_Since_CC_connect     10903 non-null  object \n",
            " 17  cashback                 10789 non-null  object \n",
            " 18  Login_device             11039 non-null  object \n",
            "dtypes: float64(5), int64(2), object(12)\n",
            "memory usage: 1.6+ MB\n"
          ],
          "name": "stdout"
        }
      ]
    },
    {
      "cell_type": "code",
      "metadata": {
        "colab": {
          "base_uri": "https://localhost:8080/"
        },
        "id": "bQ-Hx5ng-ipW",
        "outputId": "9e71a86b-1b6a-4390-c817-7aa8e686c6cf"
      },
      "source": [
        "#Check for duplicate values\n",
        "print('****Duplicates data in the train dataset without EmployeeID Column****')\n",
        "print('**********************************************************************')\n",
        "\n",
        "dups = df.loc[:, ~df.columns. isin(['EmployeeID'])].duplicated().sum()\n",
        "if dups ==0:\n",
        "    print('There is no duplicate values in the data.') \n",
        "else:\n",
        "    print('There are {} duplicates in the data which is {}% of total data'.format(dups,round((dups/df.shape[0])*100,2)))"
      ],
      "execution_count": 16,
      "outputs": [
        {
          "output_type": "stream",
          "text": [
            "****Duplicates data in the train dataset without EmployeeID Column****\n",
            "**********************************************************************\n",
            "There is no duplicate values in the data.\n"
          ],
          "name": "stdout"
        }
      ]
    },
    {
      "cell_type": "code",
      "metadata": {
        "colab": {
          "base_uri": "https://localhost:8080/"
        },
        "id": "wbIYJ4ba-ipY",
        "outputId": "fffec2cc-80b2-4bca-d581-0772914e6783"
      },
      "source": [
        "#Check for missing value\n",
        "print('****Missing Values in the Dataset****')\n",
        "print('*************************************')\n",
        "msv = df.isnull().sum()[df.isnull().sum()>0]\n",
        "if msv.empty:\n",
        "    print('There is no missing values in the data.') \n",
        "else:\n",
        "    for i in range(msv.count()):\n",
        "        print('{} Missing values in {} which is {}% of total data ({})'.format(msv[i],msv.index[i],round(((msv[i]/df.shape[0])*100),2),df[msv.index[i]].dtype))"
      ],
      "execution_count": 17,
      "outputs": [
        {
          "output_type": "stream",
          "text": [
            "****Missing Values in the Dataset****\n",
            "*************************************\n",
            "102 Missing values in Tenure which is 0.91% of total data (object)\n",
            "112 Missing values in City_Tier which is 0.99% of total data (float64)\n",
            "102 Missing values in CC_Contacted_LY which is 0.91% of total data (float64)\n",
            "109 Missing values in Payment which is 0.97% of total data (object)\n",
            "108 Missing values in Gender which is 0.96% of total data (object)\n",
            "98 Missing values in Service_Score which is 0.87% of total data (float64)\n",
            "112 Missing values in Account_user_count which is 0.99% of total data (object)\n",
            "97 Missing values in account_segment which is 0.86% of total data (object)\n",
            "116 Missing values in CC_Agent_Score which is 1.03% of total data (float64)\n",
            "212 Missing values in Marital_Status which is 1.88% of total data (object)\n",
            "102 Missing values in rev_per_month which is 0.91% of total data (object)\n",
            "357 Missing values in Complain_ly which is 3.17% of total data (float64)\n",
            "357 Missing values in Day_Since_CC_connect which is 3.17% of total data (object)\n",
            "471 Missing values in cashback which is 4.18% of total data (object)\n",
            "221 Missing values in Login_device which is 1.96% of total data (object)\n"
          ],
          "name": "stdout"
        }
      ]
    },
    {
      "cell_type": "code",
      "metadata": {
        "id": "y1OQDpsGnsb_"
      },
      "source": [
        "def display_dataframe(df):\n",
        "    numeric_col_mask = df.dtypes.apply(lambda d: issubclass(np.dtype(d).type, str))\n",
        "\n",
        "    # Dict used to center the table headers\n",
        "    d = dict(selector=\"th\",\n",
        "        props=[('text-align', 'left')])\n",
        "\n",
        "    # Style\n",
        "    display(df.style.set_properties(subset=df.columns[numeric_col_mask], \n",
        "                            **{'width':'15em', 'height':'3em','text-align':'left','border-color': 'white','border-style' :'solid'})\\\n",
        "            .set_properties(subset=df.columns[~numeric_col_mask], \n",
        "                            **{'width':'15em', 'text-align':'left','border-color':'Black','border-width':'thin'})\\\n",
        "            .format(lambda x: '{:,.0f}'.format(x) if x > 1e3 else '{:,.2f}'.format(x), # format the numeric values\n",
        "                    subset=pd.IndexSlice[:,df.columns[numeric_col_mask]])\\\n",
        "            .hide_index()\\\n",
        "\n",
        "#            .highlight_max('color: green')\\\n",
        "            .set_table_styles([d])) # center the header"
      ],
      "execution_count": 66,
      "outputs": []
    },
    {
      "cell_type": "code",
      "metadata": {
        "id": "jAIfbcV6PSOX"
      },
      "source": [
        "import re\n",
        "def check_sp(col,type):\n",
        "  livars=[]\n",
        "  li=col.unique()\n",
        "  if(type=='num'):\n",
        "    livars = list(filter(lambda x: (str(x).replace('.','').isdigit()!=True and str(x)!='nan'),li))\n",
        "  else:\n",
        "    li1 = list(filter(lambda x: (str(x).replace(' ','').isalpha()!=True and str(x)!='nan'),li))\n",
        "    pattern = r'\\W'\n",
        "    li2 = []\n",
        "    for j in li1:\n",
        "      find = re.compile(pattern)\n",
        "      ff = find.findall(j.replace(' ',''))[0]\n",
        "      li2.append(ff)\n",
        "    livars = list(set(li2))\n",
        "  return(livars)"
      ],
      "execution_count": 18,
      "outputs": []
    },
    {
      "cell_type": "code",
      "metadata": {
        "id": "85VPa95JaMhF",
        "outputId": "174600c5-08e6-4f27-8ad0-ca2a0c1f1237",
        "colab": {
          "base_uri": "https://localhost:8080/",
          "height": 271
        }
      },
      "source": [
        "Vars = {'num': ['Tenure','Account_user_count','rev_per_month','coupon_used_for_payment','Day_Since_CC_connect','cashback'],'chars':['account_segment','Payment','Gender','Marital_Status','Login_device'] }\n",
        "\n",
        "tot = len(Vars['num'])+len(Vars['chars'])\n",
        "\n",
        "s = [[None for j in range(2)] for i in range(tot)]\n",
        "i=0\n",
        "for type_var in Vars:\n",
        "  for var in Vars[type_var]:\n",
        "    livars = check_sp(df[var],type_var) \n",
        "    s[i][0] = var\n",
        "    s[i][1] = livars if(livars!=[]) else 'No Special Chars'\n",
        "    i=i+1\n",
        "\n",
        "rdf = pd.DataFrame(data=s,columns=['Column','Spceial Chars'])\n",
        "\n",
        "display_dataframe(rdf)"
      ],
      "execution_count": 67,
      "outputs": [
        {
          "output_type": "display_data",
          "data": {
            "text/html": [
              "<style  type=\"text/css\" >\n",
              "    #T_26290afa_04eb_11ec_bab5_0242ac1c0002 th {\n",
              "          text-align: left;\n",
              "    }#T_26290afa_04eb_11ec_bab5_0242ac1c0002row0_col0,#T_26290afa_04eb_11ec_bab5_0242ac1c0002row0_col1,#T_26290afa_04eb_11ec_bab5_0242ac1c0002row1_col0,#T_26290afa_04eb_11ec_bab5_0242ac1c0002row1_col1,#T_26290afa_04eb_11ec_bab5_0242ac1c0002row2_col0,#T_26290afa_04eb_11ec_bab5_0242ac1c0002row2_col1,#T_26290afa_04eb_11ec_bab5_0242ac1c0002row3_col0,#T_26290afa_04eb_11ec_bab5_0242ac1c0002row3_col1,#T_26290afa_04eb_11ec_bab5_0242ac1c0002row4_col0,#T_26290afa_04eb_11ec_bab5_0242ac1c0002row4_col1,#T_26290afa_04eb_11ec_bab5_0242ac1c0002row5_col0,#T_26290afa_04eb_11ec_bab5_0242ac1c0002row5_col1,#T_26290afa_04eb_11ec_bab5_0242ac1c0002row6_col0,#T_26290afa_04eb_11ec_bab5_0242ac1c0002row6_col1,#T_26290afa_04eb_11ec_bab5_0242ac1c0002row7_col0,#T_26290afa_04eb_11ec_bab5_0242ac1c0002row7_col1,#T_26290afa_04eb_11ec_bab5_0242ac1c0002row8_col0,#T_26290afa_04eb_11ec_bab5_0242ac1c0002row8_col1,#T_26290afa_04eb_11ec_bab5_0242ac1c0002row9_col0,#T_26290afa_04eb_11ec_bab5_0242ac1c0002row9_col1,#T_26290afa_04eb_11ec_bab5_0242ac1c0002row10_col0,#T_26290afa_04eb_11ec_bab5_0242ac1c0002row10_col1{\n",
              "            width:  15em;\n",
              "            text-align:  left;\n",
              "            border-color:  Black;\n",
              "            border-width:  thin;\n",
              "        }</style><table id=\"T_26290afa_04eb_11ec_bab5_0242ac1c0002\" ><thead>    <tr>        <th class=\"col_heading level0 col0\" >Column</th>        <th class=\"col_heading level0 col1\" >Spceial Chars</th>    </tr></thead><tbody>\n",
              "                <tr>\n",
              "                                <td id=\"T_26290afa_04eb_11ec_bab5_0242ac1c0002row0_col0\" class=\"data row0 col0\" >Tenure</td>\n",
              "                        <td id=\"T_26290afa_04eb_11ec_bab5_0242ac1c0002row0_col1\" class=\"data row0 col1\" >['#']</td>\n",
              "            </tr>\n",
              "            <tr>\n",
              "                                <td id=\"T_26290afa_04eb_11ec_bab5_0242ac1c0002row1_col0\" class=\"data row1 col0\" >Account_user_count</td>\n",
              "                        <td id=\"T_26290afa_04eb_11ec_bab5_0242ac1c0002row1_col1\" class=\"data row1 col1\" >['@']</td>\n",
              "            </tr>\n",
              "            <tr>\n",
              "                                <td id=\"T_26290afa_04eb_11ec_bab5_0242ac1c0002row2_col0\" class=\"data row2 col0\" >rev_per_month</td>\n",
              "                        <td id=\"T_26290afa_04eb_11ec_bab5_0242ac1c0002row2_col1\" class=\"data row2 col1\" >['+']</td>\n",
              "            </tr>\n",
              "            <tr>\n",
              "                                <td id=\"T_26290afa_04eb_11ec_bab5_0242ac1c0002row3_col0\" class=\"data row3 col0\" >coupon_used_for_payment</td>\n",
              "                        <td id=\"T_26290afa_04eb_11ec_bab5_0242ac1c0002row3_col1\" class=\"data row3 col1\" >['#', '$', '*']</td>\n",
              "            </tr>\n",
              "            <tr>\n",
              "                                <td id=\"T_26290afa_04eb_11ec_bab5_0242ac1c0002row4_col0\" class=\"data row4 col0\" >Day_Since_CC_connect</td>\n",
              "                        <td id=\"T_26290afa_04eb_11ec_bab5_0242ac1c0002row4_col1\" class=\"data row4 col1\" >['$']</td>\n",
              "            </tr>\n",
              "            <tr>\n",
              "                                <td id=\"T_26290afa_04eb_11ec_bab5_0242ac1c0002row5_col0\" class=\"data row5 col0\" >cashback</td>\n",
              "                        <td id=\"T_26290afa_04eb_11ec_bab5_0242ac1c0002row5_col1\" class=\"data row5 col1\" >['$']</td>\n",
              "            </tr>\n",
              "            <tr>\n",
              "                                <td id=\"T_26290afa_04eb_11ec_bab5_0242ac1c0002row6_col0\" class=\"data row6 col0\" >account_segment</td>\n",
              "                        <td id=\"T_26290afa_04eb_11ec_bab5_0242ac1c0002row6_col1\" class=\"data row6 col1\" >['+']</td>\n",
              "            </tr>\n",
              "            <tr>\n",
              "                                <td id=\"T_26290afa_04eb_11ec_bab5_0242ac1c0002row7_col0\" class=\"data row7 col0\" >Payment</td>\n",
              "                        <td id=\"T_26290afa_04eb_11ec_bab5_0242ac1c0002row7_col1\" class=\"data row7 col1\" >No Special Chars</td>\n",
              "            </tr>\n",
              "            <tr>\n",
              "                                <td id=\"T_26290afa_04eb_11ec_bab5_0242ac1c0002row8_col0\" class=\"data row8 col0\" >Gender</td>\n",
              "                        <td id=\"T_26290afa_04eb_11ec_bab5_0242ac1c0002row8_col1\" class=\"data row8 col1\" >No Special Chars</td>\n",
              "            </tr>\n",
              "            <tr>\n",
              "                                <td id=\"T_26290afa_04eb_11ec_bab5_0242ac1c0002row9_col0\" class=\"data row9 col0\" >Marital_Status</td>\n",
              "                        <td id=\"T_26290afa_04eb_11ec_bab5_0242ac1c0002row9_col1\" class=\"data row9 col1\" >No Special Chars</td>\n",
              "            </tr>\n",
              "            <tr>\n",
              "                                <td id=\"T_26290afa_04eb_11ec_bab5_0242ac1c0002row10_col0\" class=\"data row10 col0\" >Login_device</td>\n",
              "                        <td id=\"T_26290afa_04eb_11ec_bab5_0242ac1c0002row10_col1\" class=\"data row10 col1\" >['&']</td>\n",
              "            </tr>\n",
              "    </tbody></table>"
            ],
            "text/plain": [
              "<pandas.io.formats.style.Styler at 0x7f7fe2f063d0>"
            ]
          },
          "metadata": {}
        }
      ]
    },
    {
      "cell_type": "markdown",
      "metadata": {
        "id": "MhG-mLNnOQPN"
      },
      "source": [
        "### Univarient Analsyis"
      ]
    },
    {
      "cell_type": "code",
      "metadata": {
        "id": "YyiGI4As8LOb"
      },
      "source": [
        ""
      ],
      "execution_count": 12,
      "outputs": []
    }
  ]
}