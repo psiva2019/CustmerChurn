{
    "cells": [
        {
            "cell_type": "code",
            "execution_count": 1,
            "source": [
                "import pandas as pd;import warnings\n",
                "warnings.filterwarnings('ignore')\n",
                "\n",
                "import pandas as pd\n",
                "import numpy as np\n",
                "import seaborn as sns\n",
                "import matplotlib.pyplot as plt\n",
                "\n",
                "import sidetable as stb\n",
                "\n",
                "from IPython.display import HTML, display\n",
                "import tabulate\n",
                "%matplotlib inline"
            ],
            "outputs": [],
            "metadata": {}
        },
        {
            "cell_type": "markdown",
            "source": [
                "## Read the data to Pandas Data Frame"
            ],
            "metadata": {}
        },
        {
            "cell_type": "code",
            "execution_count": 4,
            "source": [
                "df = pd.read_excel(\"CustomerChurnData.xlsx\")\n",
                "df.head()"
            ],
            "outputs": [
                {
                    "output_type": "execute_result",
                    "data": {
                        "text/plain": [
                            "   AccountID  Churn Tenure  City_Tier  CC_Contacted_LY      Payment  Gender  \\\n",
                            "0      20000      1      4        3.0              6.0   Debit Card  Female   \n",
                            "1      20001      1      0        1.0              8.0          UPI    Male   \n",
                            "2      20002      1      0        1.0             30.0   Debit Card    Male   \n",
                            "3      20003      1      0        3.0             15.0   Debit Card    Male   \n",
                            "4      20004      1      0        1.0             12.0  Credit Card    Male   \n",
                            "\n",
                            "   Service_Score Account_user_count account_segment  CC_Agent_Score  \\\n",
                            "0            3.0                  3           Super             2.0   \n",
                            "1            3.0                  4    Regular Plus             3.0   \n",
                            "2            2.0                  4    Regular Plus             3.0   \n",
                            "3            2.0                  4           Super             5.0   \n",
                            "4            2.0                  3    Regular Plus             5.0   \n",
                            "\n",
                            "  Marital_Status rev_per_month  Complain_ly rev_growth_yoy  \\\n",
                            "0         Single             9          1.0             11   \n",
                            "1         Single             7          1.0             15   \n",
                            "2         Single             6          1.0             14   \n",
                            "3         Single             8          0.0             23   \n",
                            "4         Single             3          0.0             11   \n",
                            "\n",
                            "  coupon_used_for_payment Day_Since_CC_connect cashback Login_device  \n",
                            "0                       1                    5   159.93       Mobile  \n",
                            "1                       0                    0    120.9       Mobile  \n",
                            "2                       0                    3      NaN       Mobile  \n",
                            "3                       0                    3   134.07       Mobile  \n",
                            "4                       1                    3    129.6       Mobile  "
                        ],
                        "text/html": [
                            "<div>\n",
                            "<style scoped>\n",
                            "    .dataframe tbody tr th:only-of-type {\n",
                            "        vertical-align: middle;\n",
                            "    }\n",
                            "\n",
                            "    .dataframe tbody tr th {\n",
                            "        vertical-align: top;\n",
                            "    }\n",
                            "\n",
                            "    .dataframe thead th {\n",
                            "        text-align: right;\n",
                            "    }\n",
                            "</style>\n",
                            "<table border=\"1\" class=\"dataframe\">\n",
                            "  <thead>\n",
                            "    <tr style=\"text-align: right;\">\n",
                            "      <th></th>\n",
                            "      <th>AccountID</th>\n",
                            "      <th>Churn</th>\n",
                            "      <th>Tenure</th>\n",
                            "      <th>City_Tier</th>\n",
                            "      <th>CC_Contacted_LY</th>\n",
                            "      <th>Payment</th>\n",
                            "      <th>Gender</th>\n",
                            "      <th>Service_Score</th>\n",
                            "      <th>Account_user_count</th>\n",
                            "      <th>account_segment</th>\n",
                            "      <th>CC_Agent_Score</th>\n",
                            "      <th>Marital_Status</th>\n",
                            "      <th>rev_per_month</th>\n",
                            "      <th>Complain_ly</th>\n",
                            "      <th>rev_growth_yoy</th>\n",
                            "      <th>coupon_used_for_payment</th>\n",
                            "      <th>Day_Since_CC_connect</th>\n",
                            "      <th>cashback</th>\n",
                            "      <th>Login_device</th>\n",
                            "    </tr>\n",
                            "  </thead>\n",
                            "  <tbody>\n",
                            "    <tr>\n",
                            "      <th>0</th>\n",
                            "      <td>20000</td>\n",
                            "      <td>1</td>\n",
                            "      <td>4</td>\n",
                            "      <td>3.0</td>\n",
                            "      <td>6.0</td>\n",
                            "      <td>Debit Card</td>\n",
                            "      <td>Female</td>\n",
                            "      <td>3.0</td>\n",
                            "      <td>3</td>\n",
                            "      <td>Super</td>\n",
                            "      <td>2.0</td>\n",
                            "      <td>Single</td>\n",
                            "      <td>9</td>\n",
                            "      <td>1.0</td>\n",
                            "      <td>11</td>\n",
                            "      <td>1</td>\n",
                            "      <td>5</td>\n",
                            "      <td>159.93</td>\n",
                            "      <td>Mobile</td>\n",
                            "    </tr>\n",
                            "    <tr>\n",
                            "      <th>1</th>\n",
                            "      <td>20001</td>\n",
                            "      <td>1</td>\n",
                            "      <td>0</td>\n",
                            "      <td>1.0</td>\n",
                            "      <td>8.0</td>\n",
                            "      <td>UPI</td>\n",
                            "      <td>Male</td>\n",
                            "      <td>3.0</td>\n",
                            "      <td>4</td>\n",
                            "      <td>Regular Plus</td>\n",
                            "      <td>3.0</td>\n",
                            "      <td>Single</td>\n",
                            "      <td>7</td>\n",
                            "      <td>1.0</td>\n",
                            "      <td>15</td>\n",
                            "      <td>0</td>\n",
                            "      <td>0</td>\n",
                            "      <td>120.9</td>\n",
                            "      <td>Mobile</td>\n",
                            "    </tr>\n",
                            "    <tr>\n",
                            "      <th>2</th>\n",
                            "      <td>20002</td>\n",
                            "      <td>1</td>\n",
                            "      <td>0</td>\n",
                            "      <td>1.0</td>\n",
                            "      <td>30.0</td>\n",
                            "      <td>Debit Card</td>\n",
                            "      <td>Male</td>\n",
                            "      <td>2.0</td>\n",
                            "      <td>4</td>\n",
                            "      <td>Regular Plus</td>\n",
                            "      <td>3.0</td>\n",
                            "      <td>Single</td>\n",
                            "      <td>6</td>\n",
                            "      <td>1.0</td>\n",
                            "      <td>14</td>\n",
                            "      <td>0</td>\n",
                            "      <td>3</td>\n",
                            "      <td>NaN</td>\n",
                            "      <td>Mobile</td>\n",
                            "    </tr>\n",
                            "    <tr>\n",
                            "      <th>3</th>\n",
                            "      <td>20003</td>\n",
                            "      <td>1</td>\n",
                            "      <td>0</td>\n",
                            "      <td>3.0</td>\n",
                            "      <td>15.0</td>\n",
                            "      <td>Debit Card</td>\n",
                            "      <td>Male</td>\n",
                            "      <td>2.0</td>\n",
                            "      <td>4</td>\n",
                            "      <td>Super</td>\n",
                            "      <td>5.0</td>\n",
                            "      <td>Single</td>\n",
                            "      <td>8</td>\n",
                            "      <td>0.0</td>\n",
                            "      <td>23</td>\n",
                            "      <td>0</td>\n",
                            "      <td>3</td>\n",
                            "      <td>134.07</td>\n",
                            "      <td>Mobile</td>\n",
                            "    </tr>\n",
                            "    <tr>\n",
                            "      <th>4</th>\n",
                            "      <td>20004</td>\n",
                            "      <td>1</td>\n",
                            "      <td>0</td>\n",
                            "      <td>1.0</td>\n",
                            "      <td>12.0</td>\n",
                            "      <td>Credit Card</td>\n",
                            "      <td>Male</td>\n",
                            "      <td>2.0</td>\n",
                            "      <td>3</td>\n",
                            "      <td>Regular Plus</td>\n",
                            "      <td>5.0</td>\n",
                            "      <td>Single</td>\n",
                            "      <td>3</td>\n",
                            "      <td>0.0</td>\n",
                            "      <td>11</td>\n",
                            "      <td>1</td>\n",
                            "      <td>3</td>\n",
                            "      <td>129.6</td>\n",
                            "      <td>Mobile</td>\n",
                            "    </tr>\n",
                            "  </tbody>\n",
                            "</table>\n",
                            "</div>"
                        ]
                    },
                    "metadata": {},
                    "execution_count": 4
                }
            ],
            "metadata": {}
        },
        {
            "cell_type": "markdown",
            "source": [
                "## Data Report"
            ],
            "metadata": {}
        },
        {
            "cell_type": "code",
            "execution_count": 5,
            "source": [
                "#Shape of the Data\n",
                "print('****Shape of the hotel data****')\n",
                "print('********************************')\n",
                "print('No of rows\\t:\\t{}\\nNo of columns\\t:\\t{}'.format(df.shape[0],df.shape[1]))"
            ],
            "outputs": [
                {
                    "output_type": "stream",
                    "name": "stdout",
                    "text": [
                        "****Shape of the hotel data****\n",
                        "********************************\n",
                        "No of rows\t:\t11260\n",
                        "No of columns\t:\t19\n"
                    ]
                }
            ],
            "metadata": {}
        },
        {
            "cell_type": "code",
            "execution_count": 9,
            "source": [
                "print('****Show infomation of the train data****')\n",
                "print('***********************************')\n",
                "df.info()"
            ],
            "outputs": [
                {
                    "output_type": "stream",
                    "name": "stdout",
                    "text": [
                        "****Show infomation of the train data****\n",
                        "***********************************\n",
                        "<class 'pandas.core.frame.DataFrame'>\n",
                        "RangeIndex: 11260 entries, 0 to 11259\n",
                        "Data columns (total 19 columns):\n",
                        " #   Column                   Non-Null Count  Dtype  \n",
                        "---  ------                   --------------  -----  \n",
                        " 0   AccountID                11260 non-null  int64  \n",
                        " 1   Churn                    11260 non-null  int64  \n",
                        " 2   Tenure                   11158 non-null  object \n",
                        " 3   City_Tier                11148 non-null  float64\n",
                        " 4   CC_Contacted_LY          11158 non-null  float64\n",
                        " 5   Payment                  11151 non-null  object \n",
                        " 6   Gender                   11152 non-null  object \n",
                        " 7   Service_Score            11162 non-null  float64\n",
                        " 8   Account_user_count       11148 non-null  object \n",
                        " 9   account_segment          11163 non-null  object \n",
                        " 10  CC_Agent_Score           11144 non-null  float64\n",
                        " 11  Marital_Status           11048 non-null  object \n",
                        " 12  rev_per_month            11158 non-null  object \n",
                        " 13  Complain_ly              10903 non-null  float64\n",
                        " 14  rev_growth_yoy           11260 non-null  object \n",
                        " 15  coupon_used_for_payment  11260 non-null  object \n",
                        " 16  Day_Since_CC_connect     10903 non-null  object \n",
                        " 17  cashback                 10789 non-null  object \n",
                        " 18  Login_device             11039 non-null  object \n",
                        "dtypes: float64(5), int64(2), object(12)\n",
                        "memory usage: 1.6+ MB\n"
                    ]
                }
            ],
            "metadata": {}
        },
        {
            "cell_type": "code",
            "execution_count": 10,
            "source": [
                "#Check for duplicate values\n",
                "print('****Duplicates data in the train dataset without EmployeeID Column****')\n",
                "print('**********************************************************************')\n",
                "\n",
                "dups = df.loc[:, ~df.columns. isin(['EmployeeID'])].duplicated().sum()\n",
                "if dups ==0:\n",
                "    print('There is no duplicate values in the data.') \n",
                "else:\n",
                "    print('There are {} duplicates in the data which is {}% of total data'.format(dups,round((dups/df.shape[0])*100,2)))"
            ],
            "outputs": [
                {
                    "output_type": "stream",
                    "name": "stdout",
                    "text": [
                        "****Duplicates data in the train dataset without EmployeeID Column****\n",
                        "**********************************************************************\n",
                        "There is no duplicate values in the data.\n"
                    ]
                }
            ],
            "metadata": {}
        },
        {
            "cell_type": "code",
            "execution_count": 22,
            "source": [
                "#Check for missing value\n",
                "print('****Missing Values in the Dataset****')\n",
                "print('*************************************')\n",
                "msv = df.isnull().sum()[df.isnull().sum()>0]\n",
                "if msv.empty:\n",
                "    print('There is no missing values in the data.') \n",
                "else:\n",
                "    for i in range(msv.count()):\n",
                "        print('{} Missing values in {} which is {}% of total data ({})'.format(msv[i],msv.index[i],round(((msv[i]/df.shape[0])*100),2),df[msv.index[i]].dtype))"
            ],
            "outputs": [
                {
                    "output_type": "stream",
                    "name": "stdout",
                    "text": [
                        "****Missing Values in the Dataset****\n",
                        "*************************************\n",
                        "102 Missing values in Tenure which is 0.91% of total data (object)\n",
                        "112 Missing values in City_Tier which is 0.99% of total data (float64)\n",
                        "102 Missing values in CC_Contacted_LY which is 0.91% of total data (float64)\n",
                        "109 Missing values in Payment which is 0.97% of total data (object)\n",
                        "108 Missing values in Gender which is 0.96% of total data (object)\n",
                        "98 Missing values in Service_Score which is 0.87% of total data (float64)\n",
                        "112 Missing values in Account_user_count which is 0.99% of total data (object)\n",
                        "97 Missing values in account_segment which is 0.86% of total data (object)\n",
                        "116 Missing values in CC_Agent_Score which is 1.03% of total data (float64)\n",
                        "212 Missing values in Marital_Status which is 1.88% of total data (object)\n",
                        "102 Missing values in rev_per_month which is 0.91% of total data (object)\n",
                        "357 Missing values in Complain_ly which is 3.17% of total data (float64)\n",
                        "357 Missing values in Day_Since_CC_connect which is 3.17% of total data (object)\n",
                        "471 Missing values in cashback which is 4.18% of total data (object)\n",
                        "221 Missing values in Login_device which is 1.96% of total data (object)\n"
                    ]
                }
            ],
            "metadata": {}
        },
        {
            "cell_type": "code",
            "execution_count": 46,
            "source": [
                "# Special charectors int the numeric columns\n",
                "Vars=['Tenure','Account_user_count','rev_per_month','coupon_used_for_payment','Day_Since_CC_connect','cashback']\n",
                "\n",
                "for i in Vars:\n",
                "    li=df[i].unique()\n",
                "    print(i,'\\t',list(filter(lambda x: (str(x).replace('.','').isdigit()!=True and str(x)!='nan'),li)))"
            ],
            "outputs": [
                {
                    "output_type": "stream",
                    "name": "stdout",
                    "text": [
                        "Tenure \t ['#']\n",
                        "Account_user_count \t ['@']\n",
                        "rev_per_month \t ['+']\n",
                        "coupon_used_for_payment \t ['#', '$', '*']\n",
                        "Day_Since_CC_connect \t ['$']\n",
                        "cashback \t ['$']\n"
                    ]
                }
            ],
            "metadata": {}
        },
        {
            "cell_type": "code",
            "execution_count": 47,
            "source": [
                "# Special charectors int the text columns\n",
                "Vars=['account_segment']\n",
                "\n",
                "for i in Vars:\n",
                "    li=df[i].unique()\n",
                "    print(i,'\\t',list(filter(lambda x: (str(x).replace('.','').isdigit()!=True and str(x)!='nan'),li)))"
            ],
            "outputs": [
                {
                    "output_type": "stream",
                    "name": "stdout",
                    "text": [
                        "account_segment \t ['Super', 'Regular Plus', 'Regular', 'HNI', 'Regular +', 'Super Plus', 'Super +']\n"
                    ]
                }
            ],
            "metadata": {}
        }
    ],
    "metadata": {
        "orig_nbformat": 4,
        "language_info": {
            "name": "python",
            "version": "3.9.6",
            "mimetype": "text/x-python",
            "codemirror_mode": {
                "name": "ipython",
                "version": 3
            },
            "pygments_lexer": "ipython3",
            "nbconvert_exporter": "python",
            "file_extension": ".py"
        },
        "kernelspec": {
            "name": "python3",
            "display_name": "Python 3.9.6 64-bit ('siva': conda)"
        },
        "interpreter": {
            "hash": "d59c341ed32160242370476a4d4f1c9ff647ac91b54f108dc9cb6abb4d107ffd"
        }
    },
    "nbformat": 4,
    "nbformat_minor": 2
}