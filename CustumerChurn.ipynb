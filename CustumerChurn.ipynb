{
  "nbformat": 4,
  "nbformat_minor": 2,
  "metadata": {
    "orig_nbformat": 4,
    "language_info": {
      "name": "python",
      "version": "3.9.6",
      "mimetype": "text/x-python",
      "codemirror_mode": {
        "name": "ipython",
        "version": 3
      },
      "pygments_lexer": "ipython3",
      "nbconvert_exporter": "python",
      "file_extension": ".py"
    },
    "kernelspec": {
      "name": "python3",
      "display_name": "Python 3.9.6 64-bit ('siva': conda)"
    },
    "interpreter": {
      "hash": "d59c341ed32160242370476a4d4f1c9ff647ac91b54f108dc9cb6abb4d107ffd"
    },
    "colab": {
      "name": "CustumerChurn.ipynb",
      "provenance": []
    },
    "accelerator": "TPU"
  },
  "cells": [
    {
      "cell_type": "code",
      "execution_count": 2,
      "source": [
        "#  !pip install sidetable\n",
        "#  !pip install tabulate"
      ],
      "outputs": [],
      "metadata": {
        "id": "1Y2grqJbA5WK"
      }
    },
    {
      "cell_type": "code",
      "execution_count": 3,
      "source": [
        "import pandas as pd;import warnings\n",
        "warnings.filterwarnings('ignore')\n",
        "\n",
        "import pandas as pd\n",
        "import numpy as np\n",
        "import seaborn as sns\n",
        "import matplotlib.pyplot as plt\n",
        "\n",
        "import sidetable as stb\n",
        "\n",
        "from IPython.display import HTML, display\n",
        "import tabulate\n",
        "import re\n",
        "%matplotlib inline"
      ],
      "outputs": [],
      "metadata": {
        "id": "D2xM3Jmw-ipG"
      }
    },
    {
      "cell_type": "markdown",
      "source": [
        "## Read the data to Pandas Data Frame"
      ],
      "metadata": {
        "id": "me5UFTK8-ipP"
      }
    },
    {
      "cell_type": "code",
      "execution_count": 4,
      "source": [
        "df = pd.read_csv(\"https://raw.githubusercontent.com/psiva2019/CustmerChurn/master/CustumerChurnData.csv\",error_bad_lines=False)\n",
        "df.head()"
      ],
      "outputs": [
        {
          "output_type": "execute_result",
          "data": {
            "text/html": [
              "<div>\n",
              "<style scoped>\n",
              "    .dataframe tbody tr th:only-of-type {\n",
              "        vertical-align: middle;\n",
              "    }\n",
              "\n",
              "    .dataframe tbody tr th {\n",
              "        vertical-align: top;\n",
              "    }\n",
              "\n",
              "    .dataframe thead th {\n",
              "        text-align: right;\n",
              "    }\n",
              "</style>\n",
              "<table border=\"1\" class=\"dataframe\">\n",
              "  <thead>\n",
              "    <tr style=\"text-align: right;\">\n",
              "      <th></th>\n",
              "      <th>AccountID</th>\n",
              "      <th>Churn</th>\n",
              "      <th>Tenure</th>\n",
              "      <th>City_Tier</th>\n",
              "      <th>CC_Contacted_LY</th>\n",
              "      <th>Payment</th>\n",
              "      <th>Gender</th>\n",
              "      <th>Service_Score</th>\n",
              "      <th>Account_user_count</th>\n",
              "      <th>account_segment</th>\n",
              "      <th>CC_Agent_Score</th>\n",
              "      <th>Marital_Status</th>\n",
              "      <th>rev_per_month</th>\n",
              "      <th>Complain_ly</th>\n",
              "      <th>rev_growth_yoy</th>\n",
              "      <th>coupon_used_for_payment</th>\n",
              "      <th>Day_Since_CC_connect</th>\n",
              "      <th>cashback</th>\n",
              "      <th>Login_device</th>\n",
              "    </tr>\n",
              "  </thead>\n",
              "  <tbody>\n",
              "    <tr>\n",
              "      <th>0</th>\n",
              "      <td>20000</td>\n",
              "      <td>1</td>\n",
              "      <td>4</td>\n",
              "      <td>3.0</td>\n",
              "      <td>6.0</td>\n",
              "      <td>Debit Card</td>\n",
              "      <td>Female</td>\n",
              "      <td>3.0</td>\n",
              "      <td>3</td>\n",
              "      <td>Super</td>\n",
              "      <td>2.0</td>\n",
              "      <td>Single</td>\n",
              "      <td>9</td>\n",
              "      <td>1.0</td>\n",
              "      <td>11</td>\n",
              "      <td>1</td>\n",
              "      <td>5</td>\n",
              "      <td>160</td>\n",
              "      <td>Mobile</td>\n",
              "    </tr>\n",
              "    <tr>\n",
              "      <th>1</th>\n",
              "      <td>20001</td>\n",
              "      <td>1</td>\n",
              "      <td>0</td>\n",
              "      <td>1.0</td>\n",
              "      <td>8.0</td>\n",
              "      <td>UPI</td>\n",
              "      <td>Male</td>\n",
              "      <td>3.0</td>\n",
              "      <td>4</td>\n",
              "      <td>Regular Plus</td>\n",
              "      <td>3.0</td>\n",
              "      <td>Single</td>\n",
              "      <td>7</td>\n",
              "      <td>1.0</td>\n",
              "      <td>15</td>\n",
              "      <td>0</td>\n",
              "      <td>0</td>\n",
              "      <td>121</td>\n",
              "      <td>Mobile</td>\n",
              "    </tr>\n",
              "    <tr>\n",
              "      <th>2</th>\n",
              "      <td>20002</td>\n",
              "      <td>1</td>\n",
              "      <td>0</td>\n",
              "      <td>1.0</td>\n",
              "      <td>30.0</td>\n",
              "      <td>Debit Card</td>\n",
              "      <td>Male</td>\n",
              "      <td>2.0</td>\n",
              "      <td>4</td>\n",
              "      <td>Regular Plus</td>\n",
              "      <td>3.0</td>\n",
              "      <td>Single</td>\n",
              "      <td>6</td>\n",
              "      <td>1.0</td>\n",
              "      <td>14</td>\n",
              "      <td>0</td>\n",
              "      <td>3</td>\n",
              "      <td>NaN</td>\n",
              "      <td>Mobile</td>\n",
              "    </tr>\n",
              "    <tr>\n",
              "      <th>3</th>\n",
              "      <td>20003</td>\n",
              "      <td>1</td>\n",
              "      <td>0</td>\n",
              "      <td>3.0</td>\n",
              "      <td>15.0</td>\n",
              "      <td>Debit Card</td>\n",
              "      <td>Male</td>\n",
              "      <td>2.0</td>\n",
              "      <td>4</td>\n",
              "      <td>Super</td>\n",
              "      <td>5.0</td>\n",
              "      <td>Single</td>\n",
              "      <td>8</td>\n",
              "      <td>0.0</td>\n",
              "      <td>23</td>\n",
              "      <td>0</td>\n",
              "      <td>3</td>\n",
              "      <td>134</td>\n",
              "      <td>Mobile</td>\n",
              "    </tr>\n",
              "    <tr>\n",
              "      <th>4</th>\n",
              "      <td>20004</td>\n",
              "      <td>1</td>\n",
              "      <td>0</td>\n",
              "      <td>1.0</td>\n",
              "      <td>12.0</td>\n",
              "      <td>Credit Card</td>\n",
              "      <td>Male</td>\n",
              "      <td>2.0</td>\n",
              "      <td>3</td>\n",
              "      <td>Regular Plus</td>\n",
              "      <td>5.0</td>\n",
              "      <td>Single</td>\n",
              "      <td>3</td>\n",
              "      <td>0.0</td>\n",
              "      <td>11</td>\n",
              "      <td>1</td>\n",
              "      <td>3</td>\n",
              "      <td>130</td>\n",
              "      <td>Mobile</td>\n",
              "    </tr>\n",
              "  </tbody>\n",
              "</table>\n",
              "</div>"
            ],
            "text/plain": [
              "   AccountID  Churn Tenure  City_Tier  CC_Contacted_LY      Payment  Gender  \\\n",
              "0      20000      1      4        3.0              6.0   Debit Card  Female   \n",
              "1      20001      1      0        1.0              8.0          UPI    Male   \n",
              "2      20002      1      0        1.0             30.0   Debit Card    Male   \n",
              "3      20003      1      0        3.0             15.0   Debit Card    Male   \n",
              "4      20004      1      0        1.0             12.0  Credit Card    Male   \n",
              "\n",
              "   Service_Score Account_user_count account_segment  CC_Agent_Score  \\\n",
              "0            3.0                  3           Super             2.0   \n",
              "1            3.0                  4    Regular Plus             3.0   \n",
              "2            2.0                  4    Regular Plus             3.0   \n",
              "3            2.0                  4           Super             5.0   \n",
              "4            2.0                  3    Regular Plus             5.0   \n",
              "\n",
              "  Marital_Status rev_per_month  Complain_ly rev_growth_yoy  \\\n",
              "0         Single             9          1.0             11   \n",
              "1         Single             7          1.0             15   \n",
              "2         Single             6          1.0             14   \n",
              "3         Single             8          0.0             23   \n",
              "4         Single             3          0.0             11   \n",
              "\n",
              "  coupon_used_for_payment Day_Since_CC_connect cashback Login_device  \n",
              "0                       1                    5      160       Mobile  \n",
              "1                       0                    0      121       Mobile  \n",
              "2                       0                    3      NaN       Mobile  \n",
              "3                       0                    3      134       Mobile  \n",
              "4                       1                    3      130       Mobile  "
            ]
          },
          "metadata": {},
          "execution_count": 4
        }
      ],
      "metadata": {
        "colab": {
          "base_uri": "https://localhost:8080/",
          "height": 292
        },
        "id": "WnziSl7Y-ipQ",
        "outputId": "966f7a18-b7b5-4346-d418-70ea38eab0b1"
      }
    },
    {
      "cell_type": "markdown",
      "source": [
        "## Data Report"
      ],
      "metadata": {
        "id": "uwQo31wf-ipT"
      }
    },
    {
      "cell_type": "code",
      "execution_count": 5,
      "source": [
        "#Shape of the Data\n",
        "print('****Shape of the hotel data****')\n",
        "print('********************************')\n",
        "print('No of rows\\t:\\t{}\\nNo of columns\\t:\\t{}'.format(df.shape[0],df.shape[1]))"
      ],
      "outputs": [
        {
          "output_type": "stream",
          "name": "stdout",
          "text": [
            "****Shape of the hotel data****\n",
            "********************************\n",
            "No of rows\t:\t11260\n",
            "No of columns\t:\t19\n"
          ]
        }
      ],
      "metadata": {
        "colab": {
          "base_uri": "https://localhost:8080/"
        },
        "id": "WpgyFFnb-ipU",
        "outputId": "c7bce7a5-92db-4031-dc22-87ed1896cad9"
      }
    },
    {
      "cell_type": "code",
      "execution_count": 6,
      "source": [
        "print('****Show infomation of the train data****')\n",
        "print('***********************************')\n",
        "df.info()"
      ],
      "outputs": [
        {
          "output_type": "stream",
          "name": "stdout",
          "text": [
            "****Show infomation of the train data****\n",
            "***********************************\n",
            "<class 'pandas.core.frame.DataFrame'>\n",
            "RangeIndex: 11260 entries, 0 to 11259\n",
            "Data columns (total 19 columns):\n",
            " #   Column                   Non-Null Count  Dtype  \n",
            "---  ------                   --------------  -----  \n",
            " 0   AccountID                11260 non-null  int64  \n",
            " 1   Churn                    11260 non-null  int64  \n",
            " 2   Tenure                   11158 non-null  object \n",
            " 3   City_Tier                11148 non-null  float64\n",
            " 4   CC_Contacted_LY          11158 non-null  float64\n",
            " 5   Payment                  11151 non-null  object \n",
            " 6   Gender                   11152 non-null  object \n",
            " 7   Service_Score            11162 non-null  float64\n",
            " 8   Account_user_count       11148 non-null  object \n",
            " 9   account_segment          11163 non-null  object \n",
            " 10  CC_Agent_Score           11144 non-null  float64\n",
            " 11  Marital_Status           11048 non-null  object \n",
            " 12  rev_per_month            11158 non-null  object \n",
            " 13  Complain_ly              10903 non-null  float64\n",
            " 14  rev_growth_yoy           11260 non-null  object \n",
            " 15  coupon_used_for_payment  11260 non-null  object \n",
            " 16  Day_Since_CC_connect     10903 non-null  object \n",
            " 17  cashback                 10789 non-null  object \n",
            " 18  Login_device             11039 non-null  object \n",
            "dtypes: float64(5), int64(2), object(12)\n",
            "memory usage: 1.6+ MB\n"
          ]
        }
      ],
      "metadata": {
        "colab": {
          "base_uri": "https://localhost:8080/"
        },
        "id": "csPUG3yx-ipV",
        "outputId": "aa35d3c4-f388-484b-81cc-763015b7a32d"
      }
    },
    {
      "cell_type": "code",
      "execution_count": 7,
      "source": [
        "#Check for duplicate values\n",
        "print('****Duplicates data in the train dataset without EmployeeID Column****')\n",
        "print('**********************************************************************')\n",
        "\n",
        "dups = df.loc[:, ~df.columns. isin(['EmployeeID'])].duplicated().sum()\n",
        "if dups ==0:\n",
        "    print('There is no duplicate values in the data.') \n",
        "else:\n",
        "    print('There are {} duplicates in the data which is {}% of total data'.format(dups,round((dups/df.shape[0])*100,2)))"
      ],
      "outputs": [
        {
          "output_type": "stream",
          "name": "stdout",
          "text": [
            "****Duplicates data in the train dataset without EmployeeID Column****\n",
            "**********************************************************************\n",
            "There is no duplicate values in the data.\n"
          ]
        }
      ],
      "metadata": {
        "colab": {
          "base_uri": "https://localhost:8080/"
        },
        "id": "bQ-Hx5ng-ipW",
        "outputId": "c7cd0057-5578-495b-f36e-72c770478cc8"
      }
    },
    {
      "cell_type": "code",
      "execution_count": 8,
      "source": [
        "#Check for missing value\n",
        "print('****Missing Values in the Dataset****')\n",
        "print('*************************************')\n",
        "msv = df.isnull().sum()[df.isnull().sum()>0]\n",
        "if msv.empty:\n",
        "    print('There is no missing values in the data.') \n",
        "else:\n",
        "    for i in range(msv.count()):\n",
        "        print('{} Missing values in {} which is {}% of total data ({})'.format(msv[i],msv.index[i],round(((msv[i]/df.shape[0])*100),2),df[msv.index[i]].dtype))"
      ],
      "outputs": [
        {
          "output_type": "stream",
          "name": "stdout",
          "text": [
            "****Missing Values in the Dataset****\n",
            "*************************************\n",
            "102 Missing values in Tenure which is 0.91% of total data (object)\n",
            "112 Missing values in City_Tier which is 0.99% of total data (float64)\n",
            "102 Missing values in CC_Contacted_LY which is 0.91% of total data (float64)\n",
            "109 Missing values in Payment which is 0.97% of total data (object)\n",
            "108 Missing values in Gender which is 0.96% of total data (object)\n",
            "98 Missing values in Service_Score which is 0.87% of total data (float64)\n",
            "112 Missing values in Account_user_count which is 0.99% of total data (object)\n",
            "97 Missing values in account_segment which is 0.86% of total data (object)\n",
            "116 Missing values in CC_Agent_Score which is 1.03% of total data (float64)\n",
            "212 Missing values in Marital_Status which is 1.88% of total data (object)\n",
            "102 Missing values in rev_per_month which is 0.91% of total data (object)\n",
            "357 Missing values in Complain_ly which is 3.17% of total data (float64)\n",
            "357 Missing values in Day_Since_CC_connect which is 3.17% of total data (object)\n",
            "471 Missing values in cashback which is 4.18% of total data (object)\n",
            "221 Missing values in Login_device which is 1.96% of total data (object)\n"
          ]
        }
      ],
      "metadata": {
        "colab": {
          "base_uri": "https://localhost:8080/"
        },
        "id": "wbIYJ4ba-ipY",
        "outputId": "41b09097-a020-492c-c475-a2146073abc8"
      }
    },
    {
      "cell_type": "code",
      "execution_count": 9,
      "source": [
        "def display_dataframe(df,dtypeval):\n",
        "    numeric_col_mask = df.dtypes.apply(lambda d: issubclass(np.dtype(d).type, dtypeval))\n",
        "\n",
        "    # Dict used to center the table headers\n",
        "    d = dict(selector=\"th\",\n",
        "        props=[('text-align', 'left')])\n",
        "\n",
        "    # Style\n",
        "    display(df.style.set_properties(subset=df.columns[numeric_col_mask], \n",
        "                            **{'width':'15em', 'height':'3em','text-align':'left','border-color':'White','border-width':'thin'})\\\n",
        "            .set_properties(subset=df.columns[~numeric_col_mask], \n",
        "                            **{'width':'15em', 'text-align':'left','border-color':'White','border-width':'thin'})\\\n",
        "            .format(lambda x: '{:,.0f}'.format(x) if x > 1e3 else '{:,.2f}'.format(x), # format the numeric values\n",
        "                    subset=pd.IndexSlice[:,df.columns[numeric_col_mask]])\\\n",
        "            .hide_index()\\\n",
        "\n",
        "#            .highlight_max('color: green')\\\n",
        "            .set_table_styles([d])) # center the header"
      ],
      "outputs": [],
      "metadata": {
        "id": "y1OQDpsGnsb_"
      }
    },
    {
      "cell_type": "code",
      "execution_count": 10,
      "source": [
        "def check_sp(Vars,fixit,data_df):\n",
        "  tot = len(Vars['num'])+len(Vars['chars'])\n",
        "\n",
        "  s = [[None for j in range(3)] for i in range(tot)]\n",
        "  i=0\n",
        "  for type_var in Vars:\n",
        "    for var in Vars[type_var]:\n",
        "      livars=[]\n",
        "      li=data_df[var].unique()\n",
        "      if(type_var=='num'):\n",
        "        livars = list(filter(lambda x: (str(x).replace('.','').isdigit()!=True and str(x)!='nan'),li))\n",
        "        if(fixit==True):\n",
        "          for k in livars:\n",
        "            data_df[var].replace(k,np.nan,inplace=True)\n",
        "      else:\n",
        "        li1 = list(filter(lambda x: (str(x).replace(' ','').isalpha()!=True and str(x)!='nan'),li))\n",
        "        pattern = r'\\W'\n",
        "        \n",
        "        li2 = []\n",
        "        for j in li1:\n",
        "          find = re.compile(pattern)\n",
        "          ff = find.findall(j.replace(' ',''))[0]\n",
        "          li2.append(ff)\n",
        "        livars = list(set(li2))\n",
        "      s[i][0] = var\n",
        "      s[i][1] = livars if(livars!=[]) else 'No Special Chars'\n",
        "      s[i][2] = 'Numeric' if(type_var=='num') else 'Charecter'\n",
        "      i=i+1\n",
        "  rdf = pd.DataFrame(data=s,columns=['Column','SpecialChars','DataType'])\n",
        "  return(rdf)"
      ],
      "outputs": [],
      "metadata": {
        "id": "85VPa95JaMhF"
      }
    },
    {
      "cell_type": "code",
      "execution_count": 11,
      "source": [
        "Vars = {'num': ['Tenure','Account_user_count','rev_per_month','coupon_used_for_payment','Day_Since_CC_connect','cashback'],'chars':['account_segment','Payment','Gender','Marital_Status','Login_device'] }\n",
        "\n",
        "spdf = check_sp(Vars,True,df)\n",
        "display_dataframe(spdf,str)"
      ],
      "outputs": [
        {
          "output_type": "display_data",
          "data": {
            "text/html": [
              "<style type=\"text/css\">\n",
              "#T_035a8_ th {\n",
              "  text-align: left;\n",
              "}\n",
              "#T_035a8_row0_col0, #T_035a8_row0_col1, #T_035a8_row0_col2, #T_035a8_row1_col0, #T_035a8_row1_col1, #T_035a8_row1_col2, #T_035a8_row2_col0, #T_035a8_row2_col1, #T_035a8_row2_col2, #T_035a8_row3_col0, #T_035a8_row3_col1, #T_035a8_row3_col2, #T_035a8_row4_col0, #T_035a8_row4_col1, #T_035a8_row4_col2, #T_035a8_row5_col0, #T_035a8_row5_col1, #T_035a8_row5_col2, #T_035a8_row6_col0, #T_035a8_row6_col1, #T_035a8_row6_col2, #T_035a8_row7_col0, #T_035a8_row7_col1, #T_035a8_row7_col2, #T_035a8_row8_col0, #T_035a8_row8_col1, #T_035a8_row8_col2, #T_035a8_row9_col0, #T_035a8_row9_col1, #T_035a8_row9_col2, #T_035a8_row10_col0, #T_035a8_row10_col1, #T_035a8_row10_col2 {\n",
              "  width: 15em;\n",
              "  text-align: left;\n",
              "  border-color: White;\n",
              "  border-width: thin;\n",
              "}\n",
              "</style>\n",
              "<table id=\"T_035a8_\">\n",
              "  <thead>\n",
              "    <tr>\n",
              "      <th class=\"col_heading level0 col0\" >Column</th>\n",
              "      <th class=\"col_heading level0 col1\" >SpecialChars</th>\n",
              "      <th class=\"col_heading level0 col2\" >DataType</th>\n",
              "    </tr>\n",
              "  </thead>\n",
              "  <tbody>\n",
              "    <tr>\n",
              "      <td id=\"T_035a8_row0_col0\" class=\"data row0 col0\" >Tenure</td>\n",
              "      <td id=\"T_035a8_row0_col1\" class=\"data row0 col1\" >['#']</td>\n",
              "      <td id=\"T_035a8_row0_col2\" class=\"data row0 col2\" >Numeric</td>\n",
              "    </tr>\n",
              "    <tr>\n",
              "      <td id=\"T_035a8_row1_col0\" class=\"data row1 col0\" >Account_user_count</td>\n",
              "      <td id=\"T_035a8_row1_col1\" class=\"data row1 col1\" >['@']</td>\n",
              "      <td id=\"T_035a8_row1_col2\" class=\"data row1 col2\" >Numeric</td>\n",
              "    </tr>\n",
              "    <tr>\n",
              "      <td id=\"T_035a8_row2_col0\" class=\"data row2 col0\" >rev_per_month</td>\n",
              "      <td id=\"T_035a8_row2_col1\" class=\"data row2 col1\" >['+']</td>\n",
              "      <td id=\"T_035a8_row2_col2\" class=\"data row2 col2\" >Numeric</td>\n",
              "    </tr>\n",
              "    <tr>\n",
              "      <td id=\"T_035a8_row3_col0\" class=\"data row3 col0\" >coupon_used_for_payment</td>\n",
              "      <td id=\"T_035a8_row3_col1\" class=\"data row3 col1\" >['#', '$', '*']</td>\n",
              "      <td id=\"T_035a8_row3_col2\" class=\"data row3 col2\" >Numeric</td>\n",
              "    </tr>\n",
              "    <tr>\n",
              "      <td id=\"T_035a8_row4_col0\" class=\"data row4 col0\" >Day_Since_CC_connect</td>\n",
              "      <td id=\"T_035a8_row4_col1\" class=\"data row4 col1\" >['$']</td>\n",
              "      <td id=\"T_035a8_row4_col2\" class=\"data row4 col2\" >Numeric</td>\n",
              "    </tr>\n",
              "    <tr>\n",
              "      <td id=\"T_035a8_row5_col0\" class=\"data row5 col0\" >cashback</td>\n",
              "      <td id=\"T_035a8_row5_col1\" class=\"data row5 col1\" >['$']</td>\n",
              "      <td id=\"T_035a8_row5_col2\" class=\"data row5 col2\" >Numeric</td>\n",
              "    </tr>\n",
              "    <tr>\n",
              "      <td id=\"T_035a8_row6_col0\" class=\"data row6 col0\" >account_segment</td>\n",
              "      <td id=\"T_035a8_row6_col1\" class=\"data row6 col1\" >['+']</td>\n",
              "      <td id=\"T_035a8_row6_col2\" class=\"data row6 col2\" >Charecter</td>\n",
              "    </tr>\n",
              "    <tr>\n",
              "      <td id=\"T_035a8_row7_col0\" class=\"data row7 col0\" >Payment</td>\n",
              "      <td id=\"T_035a8_row7_col1\" class=\"data row7 col1\" >No Special Chars</td>\n",
              "      <td id=\"T_035a8_row7_col2\" class=\"data row7 col2\" >Charecter</td>\n",
              "    </tr>\n",
              "    <tr>\n",
              "      <td id=\"T_035a8_row8_col0\" class=\"data row8 col0\" >Gender</td>\n",
              "      <td id=\"T_035a8_row8_col1\" class=\"data row8 col1\" >No Special Chars</td>\n",
              "      <td id=\"T_035a8_row8_col2\" class=\"data row8 col2\" >Charecter</td>\n",
              "    </tr>\n",
              "    <tr>\n",
              "      <td id=\"T_035a8_row9_col0\" class=\"data row9 col0\" >Marital_Status</td>\n",
              "      <td id=\"T_035a8_row9_col1\" class=\"data row9 col1\" >No Special Chars</td>\n",
              "      <td id=\"T_035a8_row9_col2\" class=\"data row9 col2\" >Charecter</td>\n",
              "    </tr>\n",
              "    <tr>\n",
              "      <td id=\"T_035a8_row10_col0\" class=\"data row10 col0\" >Login_device</td>\n",
              "      <td id=\"T_035a8_row10_col1\" class=\"data row10 col1\" >['&']</td>\n",
              "      <td id=\"T_035a8_row10_col2\" class=\"data row10 col2\" >Charecter</td>\n",
              "    </tr>\n",
              "  </tbody>\n",
              "</table>\n"
            ],
            "text/plain": [
              "<pandas.io.formats.style.Styler at 0x148c63040>"
            ]
          },
          "metadata": {}
        }
      ],
      "metadata": {
        "colab": {
          "base_uri": "https://localhost:8080/",
          "height": 271
        },
        "id": "9yB7_nyYzgPH",
        "outputId": "b4bcbe22-7c8a-4a30-e031-33a861875dd6"
      }
    },
    {
      "cell_type": "code",
      "execution_count": 12,
      "source": [
        "df['account_segment'].value_counts()"
      ],
      "outputs": [
        {
          "output_type": "execute_result",
          "data": {
            "text/plain": [
              "Super           4062\n",
              "Regular Plus    3862\n",
              "HNI             1639\n",
              "Super Plus       771\n",
              "Regular          520\n",
              "Regular +        262\n",
              "Super +           47\n",
              "Name: account_segment, dtype: int64"
            ]
          },
          "metadata": {},
          "execution_count": 12
        }
      ],
      "metadata": {
        "colab": {
          "base_uri": "https://localhost:8080/"
        },
        "id": "wp5EeP3R25w2",
        "outputId": "091ac7c3-a037-49d1-b9fc-f7df731c0f0c"
      }
    },
    {
      "cell_type": "code",
      "execution_count": 13,
      "source": [
        "df['Login_device'].value_counts()"
      ],
      "outputs": [
        {
          "output_type": "execute_result",
          "data": {
            "text/plain": [
              "Mobile      7482\n",
              "Computer    3018\n",
              "&&&&         539\n",
              "Name: Login_device, dtype: int64"
            ]
          },
          "metadata": {},
          "execution_count": 13
        }
      ],
      "metadata": {
        "colab": {
          "base_uri": "https://localhost:8080/"
        },
        "id": "pfJOU_iN3fFI",
        "outputId": "b1d1f13f-7e35-4f66-e6bc-c00983ea1546"
      }
    },
    {
      "cell_type": "code",
      "execution_count": 14,
      "source": [
        "df['account_segment'].replace('Super +','Super Plus',inplace=True)\n",
        "df['account_segment'].replace('Regular +','Regular Plus',inplace=True)\n",
        "df['Login_device'].replace('&&&&','Mobile',inplace=True)\n",
        "\n",
        "df['Gender'].replace('Male','M',inplace=True)\n",
        "df['Gender'].replace('Female','F',inplace=True)"
      ],
      "outputs": [],
      "metadata": {
        "id": "nocJQEHV4F2G"
      }
    },
    {
      "cell_type": "code",
      "execution_count": 15,
      "source": [
        "spdf = check_sp(Vars,False,df)\n",
        "display_dataframe(spdf,str)"
      ],
      "outputs": [
        {
          "output_type": "display_data",
          "data": {
            "text/html": [
              "<style type=\"text/css\">\n",
              "#T_0ccd4_ th {\n",
              "  text-align: left;\n",
              "}\n",
              "#T_0ccd4_row0_col0, #T_0ccd4_row0_col1, #T_0ccd4_row0_col2, #T_0ccd4_row1_col0, #T_0ccd4_row1_col1, #T_0ccd4_row1_col2, #T_0ccd4_row2_col0, #T_0ccd4_row2_col1, #T_0ccd4_row2_col2, #T_0ccd4_row3_col0, #T_0ccd4_row3_col1, #T_0ccd4_row3_col2, #T_0ccd4_row4_col0, #T_0ccd4_row4_col1, #T_0ccd4_row4_col2, #T_0ccd4_row5_col0, #T_0ccd4_row5_col1, #T_0ccd4_row5_col2, #T_0ccd4_row6_col0, #T_0ccd4_row6_col1, #T_0ccd4_row6_col2, #T_0ccd4_row7_col0, #T_0ccd4_row7_col1, #T_0ccd4_row7_col2, #T_0ccd4_row8_col0, #T_0ccd4_row8_col1, #T_0ccd4_row8_col2, #T_0ccd4_row9_col0, #T_0ccd4_row9_col1, #T_0ccd4_row9_col2, #T_0ccd4_row10_col0, #T_0ccd4_row10_col1, #T_0ccd4_row10_col2 {\n",
              "  width: 15em;\n",
              "  text-align: left;\n",
              "  border-color: White;\n",
              "  border-width: thin;\n",
              "}\n",
              "</style>\n",
              "<table id=\"T_0ccd4_\">\n",
              "  <thead>\n",
              "    <tr>\n",
              "      <th class=\"col_heading level0 col0\" >Column</th>\n",
              "      <th class=\"col_heading level0 col1\" >SpecialChars</th>\n",
              "      <th class=\"col_heading level0 col2\" >DataType</th>\n",
              "    </tr>\n",
              "  </thead>\n",
              "  <tbody>\n",
              "    <tr>\n",
              "      <td id=\"T_0ccd4_row0_col0\" class=\"data row0 col0\" >Tenure</td>\n",
              "      <td id=\"T_0ccd4_row0_col1\" class=\"data row0 col1\" >No Special Chars</td>\n",
              "      <td id=\"T_0ccd4_row0_col2\" class=\"data row0 col2\" >Numeric</td>\n",
              "    </tr>\n",
              "    <tr>\n",
              "      <td id=\"T_0ccd4_row1_col0\" class=\"data row1 col0\" >Account_user_count</td>\n",
              "      <td id=\"T_0ccd4_row1_col1\" class=\"data row1 col1\" >No Special Chars</td>\n",
              "      <td id=\"T_0ccd4_row1_col2\" class=\"data row1 col2\" >Numeric</td>\n",
              "    </tr>\n",
              "    <tr>\n",
              "      <td id=\"T_0ccd4_row2_col0\" class=\"data row2 col0\" >rev_per_month</td>\n",
              "      <td id=\"T_0ccd4_row2_col1\" class=\"data row2 col1\" >No Special Chars</td>\n",
              "      <td id=\"T_0ccd4_row2_col2\" class=\"data row2 col2\" >Numeric</td>\n",
              "    </tr>\n",
              "    <tr>\n",
              "      <td id=\"T_0ccd4_row3_col0\" class=\"data row3 col0\" >coupon_used_for_payment</td>\n",
              "      <td id=\"T_0ccd4_row3_col1\" class=\"data row3 col1\" >No Special Chars</td>\n",
              "      <td id=\"T_0ccd4_row3_col2\" class=\"data row3 col2\" >Numeric</td>\n",
              "    </tr>\n",
              "    <tr>\n",
              "      <td id=\"T_0ccd4_row4_col0\" class=\"data row4 col0\" >Day_Since_CC_connect</td>\n",
              "      <td id=\"T_0ccd4_row4_col1\" class=\"data row4 col1\" >No Special Chars</td>\n",
              "      <td id=\"T_0ccd4_row4_col2\" class=\"data row4 col2\" >Numeric</td>\n",
              "    </tr>\n",
              "    <tr>\n",
              "      <td id=\"T_0ccd4_row5_col0\" class=\"data row5 col0\" >cashback</td>\n",
              "      <td id=\"T_0ccd4_row5_col1\" class=\"data row5 col1\" >No Special Chars</td>\n",
              "      <td id=\"T_0ccd4_row5_col2\" class=\"data row5 col2\" >Numeric</td>\n",
              "    </tr>\n",
              "    <tr>\n",
              "      <td id=\"T_0ccd4_row6_col0\" class=\"data row6 col0\" >account_segment</td>\n",
              "      <td id=\"T_0ccd4_row6_col1\" class=\"data row6 col1\" >No Special Chars</td>\n",
              "      <td id=\"T_0ccd4_row6_col2\" class=\"data row6 col2\" >Charecter</td>\n",
              "    </tr>\n",
              "    <tr>\n",
              "      <td id=\"T_0ccd4_row7_col0\" class=\"data row7 col0\" >Payment</td>\n",
              "      <td id=\"T_0ccd4_row7_col1\" class=\"data row7 col1\" >No Special Chars</td>\n",
              "      <td id=\"T_0ccd4_row7_col2\" class=\"data row7 col2\" >Charecter</td>\n",
              "    </tr>\n",
              "    <tr>\n",
              "      <td id=\"T_0ccd4_row8_col0\" class=\"data row8 col0\" >Gender</td>\n",
              "      <td id=\"T_0ccd4_row8_col1\" class=\"data row8 col1\" >No Special Chars</td>\n",
              "      <td id=\"T_0ccd4_row8_col2\" class=\"data row8 col2\" >Charecter</td>\n",
              "    </tr>\n",
              "    <tr>\n",
              "      <td id=\"T_0ccd4_row9_col0\" class=\"data row9 col0\" >Marital_Status</td>\n",
              "      <td id=\"T_0ccd4_row9_col1\" class=\"data row9 col1\" >No Special Chars</td>\n",
              "      <td id=\"T_0ccd4_row9_col2\" class=\"data row9 col2\" >Charecter</td>\n",
              "    </tr>\n",
              "    <tr>\n",
              "      <td id=\"T_0ccd4_row10_col0\" class=\"data row10 col0\" >Login_device</td>\n",
              "      <td id=\"T_0ccd4_row10_col1\" class=\"data row10 col1\" >No Special Chars</td>\n",
              "      <td id=\"T_0ccd4_row10_col2\" class=\"data row10 col2\" >Charecter</td>\n",
              "    </tr>\n",
              "  </tbody>\n",
              "</table>\n"
            ],
            "text/plain": [
              "<pandas.io.formats.style.Styler at 0x149217430>"
            ]
          },
          "metadata": {}
        }
      ],
      "metadata": {
        "colab": {
          "base_uri": "https://localhost:8080/",
          "height": 271
        },
        "id": "SrahBuKmzgPS",
        "outputId": "de5d72f8-0d3b-454d-8d51-615c715f7bcc"
      }
    },
    {
      "cell_type": "code",
      "execution_count": 16,
      "source": [
        "Vars = {'num': ['Tenure','rev_per_month','cashback','CC_Contacted_LY'],'chars':['Complain_ly','CC_Agent_Score','Service_Score','City_Tier','Account_user_count','coupon_used_for_payment','Day_Since_CC_connect','account_segment','Payment','Gender','Marital_Status','Login_device'] }\n",
        "\n",
        "for vars in Vars['chars']:\n",
        "  df[vars].fillna(df[vars].mode()[0],inplace=True)\n",
        "\n",
        "for vars in Vars['num']:\n",
        "  df[vars].fillna(df[vars].median(),inplace=True)\n",
        "  if(df[vars].dtype=='object'):\n",
        "    df[vars] = df[vars].astype('int64')"
      ],
      "outputs": [],
      "metadata": {
        "id": "1NICdX1qATmS"
      }
    },
    {
      "cell_type": "code",
      "execution_count": 17,
      "source": [
        "#Check for missing value\n",
        "print('****Missing Values in the Dataset****')\n",
        "print('*************************************')\n",
        "msv = df.isnull().sum()[df.isnull().sum()>0]\n",
        "if msv.empty:\n",
        "    print('There is no missing values in the data.') \n",
        "else:\n",
        "    for i in range(msv.count()):\n",
        "        print('{} Missing values in {} which is {}% of total data ({})'.format(msv[i],msv.index[i],round(((msv[i]/df.shape[0])*100),2),df[msv.index[i]].dtype))"
      ],
      "outputs": [
        {
          "output_type": "stream",
          "name": "stdout",
          "text": [
            "****Missing Values in the Dataset****\n",
            "*************************************\n",
            "There is no missing values in the data.\n"
          ]
        }
      ],
      "metadata": {
        "colab": {
          "base_uri": "https://localhost:8080/"
        },
        "id": "B0lz4dh97x6v",
        "outputId": "d72357b0-334f-47a5-8b9a-51df7fca42f7"
      }
    },
    {
      "cell_type": "code",
      "execution_count": 18,
      "source": [
        "def unq_count_new(df,var,top_val,tit,dpn):\n",
        "    #var='meal'\n",
        "\n",
        "    if(top_val == 0):\n",
        "        perclass = pd.DataFrame(df[var].value_counts(normalize=True,dropna=dpn))\n",
        "        tardisval = pd.DataFrame(df[var].value_counts(dropna=dpn))\n",
        "    else:\n",
        "        perclass = pd.DataFrame(df[var].value_counts(normalize=True,dropna=dpn)[df[var].value_counts(dropna=dpn)>top_val])\n",
        "        tardisval = pd.DataFrame(df[var].value_counts(dropna=dpn)[df[var].value_counts(dropna=dpn)>top_val])\n",
        "        \n",
        "    disdf = pd.concat([tardisval,round(perclass*100,3)],axis=1)\n",
        "    disdf.reset_index()\n",
        "    disdf.columns=['Count','Percent']\n",
        "\n",
        "    str1 = f'**** Unique value distribution of {tit.title()} ******'\n",
        "\n",
        "    width = len(str1)\n",
        "    filler = '*'\n",
        "\n",
        "    print(str1)\n",
        "    print(f'{\"*\" :{filler}>{width}}\\n')\n",
        "\n",
        "    print(tabulate.tabulate(disdf, tablefmt='fancy_grid',headers=[tit.title(),'Count','Percent']))\n",
        "    #return (disdf)"
      ],
      "outputs": [],
      "metadata": {
        "id": "is2tRmnjMdlK"
      }
    },
    {
      "cell_type": "code",
      "execution_count": 193,
      "source": [
        "dff=df\n",
        "typevar='char'\n",
        "var='CC_Agent_Score'\n",
        "tar='Churn'\n",
        "tit='CC_Agent_Score'\n",
        "\n",
        "textlab='# of Customers'\n",
        "textlab_tar='# of Churn Customers'\n",
        "\n",
        "if(typevar=='num'):\n",
        "  fig, axis=plt.subplots(nrows=1,ncols=3)\n",
        "  fig.set_size_inches(20,3)\n",
        "\n",
        "  str1 = f'**** {tit.title()} ****'\n",
        "\n",
        "  width = len(str1)\n",
        "  filler = '*'\n",
        "\n",
        "  print(str1)\n",
        "  print(f'{\"*\" :{filler}>{width}}\\n')\n",
        "\n",
        "  dff_r = pd.DataFrame(round(dff[var].describe(),2)).T\n",
        "  display(tabulate.tabulate(dff_r, tablefmt='html',headers=dff_r.columns))\n",
        "  \n",
        "  str2 = f'\\n**** Visuallations of Feature {tit.title()} ****'\n",
        "\n",
        "  width = len(str2)\n",
        "  filler = '*'\n",
        "\n",
        "  print(str2)\n",
        "  print(f'{\"*\" :{filler}>{width}}\\n')\n",
        "\n",
        "  a= sns.histplot(dff[var],ax=axis[0],bins=bins);\n",
        "  b= sns.boxplot(dff[var],ax=axis[1]);\n",
        "  c= sns.kdeplot(dff[var],ax=axis[2],hue=df[tar])\n",
        "\n",
        "  a.set_xlabel('')\n",
        "  b.set_xlabel('')\n",
        "  c.set_xlabel('')\n",
        "  a.set_ylabel('')\n",
        "  c.set_ylabel('')\n",
        "\n",
        "  a.set_frame_on(False)\n",
        "  b.set_frame_on(False)\n",
        "  c.set_frame_on(False)\n",
        "\n",
        "else:\n",
        "  fig, axis=plt.subplots(nrows=1,ncols=2)\n",
        "  fig.set_size_inches(15,14)\n",
        "\n",
        "  #unq_count_new(dff,var,0,tit,True)\n",
        "\n",
        "  str2 = f'\\n**** Visuallations of Feature {tit.title()} ****'\n",
        "\n",
        "  width = len(str2)\n",
        "  filler = '*'\n",
        "\n",
        "  print(str2)\n",
        "  print(f'{\"*\" :{filler}>{width}}\\n')\n",
        "\n",
        "  a = sns.countplot(data=dff, y=var,ax=axis[0])\n",
        "\n",
        "  a.set_frame_on(False)\n",
        "\n",
        "  #a.set_ylabel(var,weight='bold')\n",
        "  a.set_ylabel('')\n",
        "  a.set_xlabel(textlab,weight='bold')\n",
        "\n",
        "\n",
        "  a.set_xticklabels([])\n",
        "  a.tick_params(bottom=False)\n",
        "  a.set_yticklabels(list(dff[var].value_counts().index),weight='bold')\n",
        "\n",
        "  for p in a.patches:\n",
        "      width = np.nan_to_num(p.get_width()) \n",
        "      a.text(width+120,\n",
        "          p.get_y()+.35,\n",
        "          '{} - ({:1.2f}%)'.format(width,(width/dff.shape[0])*100),\n",
        "          ha=\"center\",weight='bold') \n",
        "  \n",
        "  b = sns.barplot(data=dff, y=var,x=tar,ci=None,estimator=np.sum,ax=axis[1])\n",
        "\n",
        "  b.set_frame_on(False)\n",
        "\n",
        "  b.set_ylabel('')\n",
        "  #b.set_ylabel(var,weight='bold')\n",
        "  b.set_xlabel(textlab_tar,weight='bold')\n",
        "\n",
        "  b.set_xticklabels([])\n",
        "  b.tick_params(bottom=False)\n",
        "  b.set_yticklabels(list(dff[var].value_counts().index),weight='bold')\n",
        "  b.set_yticklabels([])\n",
        "\n",
        "  for p in b.patches:\n",
        "      width = np.nan_to_num(p.get_width()) \n",
        "      b.text(width+19,\n",
        "          p.get_y()+.35,\n",
        "          '{} - ({:1.2f}%)'.format(width,(width/dff.shape[0])*100),\n",
        "          ha=\"center\",weight='bold')  "
      ],
      "outputs": [
        {
          "output_type": "stream",
          "name": "stdout",
          "text": [
            "\n",
            "**** Visuallations of Feature Cc_Agent_Score ****\n",
            "**************************************************\n",
            "\n"
          ]
        },
        {
          "output_type": "display_data",
          "data": {
            "image/png": "[encoded data removed]",
            "text/plain": [
              "<Figure size 1080x1008 with 2 Axes>"
            ]
          },
          "metadata": {
            "needs_background": "light"
          }
        }
      ],
      "metadata": {}
    },
    {
      "cell_type": "code",
      "execution_count": 195,
      "source": [
        "b = sns.barplot(data=dff, x=dff[var],y=tar,ci=None,estimator=np.sum)\n",
        "\n",
        "\n",
        "# b.set_frame_on(False)\n",
        "\n",
        "# b.set_ylabel('')\n",
        "# #b.set_ylabel(var,weight='bold')\n",
        "# b.set_xlabel(textlab_tar,weight='bold')\n",
        "\n",
        "# b.set_xticklabels([])\n",
        "# b.tick_params(bottom=False)\n",
        "# b.set_yticklabels(list(dff[var].value_counts().index),weight='bold')\n",
        "# b.set_yticklabels([])\n",
        "\n",
        "# for p in b.patches:\n",
        "#     width = np.nan_to_num(p.get_width()) \n",
        "#     b.text(width+19,\n",
        "#         p.get_y()+.35,\n",
        "#         '{} - ({:1.2f}%)'.format(width,(width/dff.shape[0])*100),\n",
        "#         ha=\"center\",weight='bold')  "
      ],
      "outputs": [
        {
          "output_type": "display_data",
          "data": {
            "image/png": "[encoded data removed]",
            "text/plain": [
              "<Figure size 432x288 with 1 Axes>"
            ]
          },
          "metadata": {
            "needs_background": "light"
          }
        }
      ],
      "metadata": {}
    },
    {
      "cell_type": "markdown",
      "source": [
        "### Univarient Analsyis"
      ],
      "metadata": {
        "id": "MhG-mLNnOQPN"
      }
    },
    {
      "cell_type": "code",
      "execution_count": 153,
      "source": [
        "def display_unq(dff,var,tar,bins,typevar,tit,textlab,textlab_tar):\n",
        "  if(typevar=='num'):\n",
        "    fig, axis=plt.subplots(nrows=1,ncols=3)\n",
        "    fig.set_size_inches(20,3)\n",
        "\n",
        "    str1 = f'**** {tit.title()} ****'\n",
        "\n",
        "    width = len(str1)\n",
        "    filler = '*'\n",
        "\n",
        "    print(str1)\n",
        "    print(f'{\"*\" :{filler}>{width}}\\n')\n",
        "\n",
        "    dff_r = pd.DataFrame(round(dff[var].describe(),2)).T\n",
        "    display(tabulate.tabulate(dff_r, tablefmt='html',headers=dff_r.columns))\n",
        "    \n",
        "    str2 = f'\\n**** Visuallations of Feature {tit.title()} ****'\n",
        "\n",
        "    width = len(str2)\n",
        "    filler = '*'\n",
        "\n",
        "    print(str2)\n",
        "    print(f'{\"*\" :{filler}>{width}}\\n')\n",
        "\n",
        "    a= sns.histplot(dff[var],ax=axis[0],bins=bins);\n",
        "    b= sns.boxplot(dff[var],ax=axis[1]);\n",
        "    c= sns.kdeplot(dff[var],ax=axis[2],hue=df[tar])\n",
        "\n",
        "    a.set_xlabel('')\n",
        "    b.set_xlabel('')\n",
        "    c.set_xlabel('')\n",
        "    a.set_ylabel('')\n",
        "    c.set_ylabel('')\n",
        "\n",
        "    a.set_frame_on(False)\n",
        "    b.set_frame_on(False)\n",
        "    c.set_frame_on(False)\n",
        "\n",
        "  else:\n",
        "    fig, axis=plt.subplots(nrows=1,ncols=2)\n",
        "    fig.set_size_inches(15,4)\n",
        "\n",
        "    #unq_count_new(dff,var,0,tit,True)\n",
        "\n",
        "    str2 = f'\\n**** Visuallations of Feature {tit.title()} ****'\n",
        "\n",
        "    width = len(str2)\n",
        "    filler = '*'\n",
        "\n",
        "    print(str2)\n",
        "    print(f'{\"*\" :{filler}>{width}}\\n')\n",
        "\n",
        "    a = sns.countplot(data=dff, y=var,ax=axis[0])\n",
        "\n",
        "    a.set_frame_on(False)\n",
        "\n",
        "    #a.set_ylabel(var,weight='bold')\n",
        "    a.set_ylabel('')\n",
        "    a.set_xlabel(textlab,weight='bold')\n",
        "\n",
        "\n",
        "    a.set_xticklabels([])\n",
        "    a.tick_params(bottom=False)\n",
        "    a.set_yticklabels(list(dff[var].value_counts().index),weight='bold')\n",
        "\n",
        "    for p in a.patches:\n",
        "        width = np.nan_to_num(p.get_width()) \n",
        "        a.text(width+120,\n",
        "            p.get_y()+.35,\n",
        "            '{} - ({:1.2f}%)'.format(width,(width/dff.shape[0])*100),\n",
        "            ha=\"center\",weight='bold') \n",
        "    \n",
        "    b = sns.barplot(data=dff, y=var,x=tar,ci=None,estimator=np.sum,ax=axis[1])\n",
        "\n",
        "    b.set_frame_on(False)\n",
        "\n",
        "    b.set_ylabel('')\n",
        "    #b.set_ylabel(var,weight='bold')\n",
        "    b.set_xlabel(textlab_tar,weight='bold')\n",
        "\n",
        "    b.set_xticklabels([])\n",
        "    b.tick_params(bottom=False)\n",
        "    b.set_yticklabels(list(dff[var].value_counts().index),weight='bold')\n",
        "    b.set_yticklabels([])\n",
        "\n",
        "    for p in b.patches:\n",
        "        width = np.nan_to_num(p.get_width()) \n",
        "        b.text(width+19,\n",
        "            p.get_y()+.35,\n",
        "            '{} - ({:1.2f}%)'.format(width,(width/dff.shape[0])*100),\n",
        "            ha=\"center\",weight='bold')  \n"
      ],
      "outputs": [],
      "metadata": {
        "id": "YyiGI4As8LOb"
      }
    },
    {
      "cell_type": "code",
      "execution_count": 154,
      "source": [
        "textlab='# of Customers'\n",
        "textlab_tar='# of Churn Customers'\n",
        "\n",
        "display_unq(df,'Tenure','Churn',10,'num','Tenure',textlab,textlab_tar)"
      ],
      "outputs": [
        {
          "output_type": "stream",
          "name": "stdout",
          "text": [
            "**** Tenure ****\n",
            "****************\n",
            "\n"
          ]
        },
        {
          "output_type": "display_data",
          "data": {
            "text/html": [
              "<table>\n",
              "<thead>\n",
              "<tr><th>      </th><th style=\"text-align: right;\">  count</th><th style=\"text-align: right;\">  mean</th><th style=\"text-align: right;\">  std</th><th style=\"text-align: right;\">  min</th><th style=\"text-align: right;\">  25%</th><th style=\"text-align: right;\">  50%</th><th style=\"text-align: right;\">  75%</th><th style=\"text-align: right;\">  max</th></tr>\n",
              "</thead>\n",
              "<tbody>\n",
              "<tr><td>Tenure</td><td style=\"text-align: right;\">  11260</td><td style=\"text-align: right;\"> 10.99</td><td style=\"text-align: right;\">12.76</td><td style=\"text-align: right;\">    0</td><td style=\"text-align: right;\">    2</td><td style=\"text-align: right;\">    9</td><td style=\"text-align: right;\">   16</td><td style=\"text-align: right;\">   99</td></tr>\n",
              "</tbody>\n",
              "</table>"
            ],
            "text/plain": [
              "'<table>\\n<thead>\\n<tr><th>      </th><th style=\"text-align: right;\">  count</th><th style=\"text-align: right;\">  mean</th><th style=\"text-align: right;\">  std</th><th style=\"text-align: right;\">  min</th><th style=\"text-align: right;\">  25%</th><th style=\"text-align: right;\">  50%</th><th style=\"text-align: right;\">  75%</th><th style=\"text-align: right;\">  max</th></tr>\\n</thead>\\n<tbody>\\n<tr><td>Tenure</td><td style=\"text-align: right;\">  11260</td><td style=\"text-align: right;\"> 10.99</td><td style=\"text-align: right;\">12.76</td><td style=\"text-align: right;\">    0</td><td style=\"text-align: right;\">    2</td><td style=\"text-align: right;\">    9</td><td style=\"text-align: right;\">   16</td><td style=\"text-align: right;\">   99</td></tr>\\n</tbody>\\n</table>'"
            ]
          },
          "metadata": {}
        },
        {
          "output_type": "stream",
          "name": "stdout",
          "text": [
            "\n",
            "**** Visuallations of Feature Tenure ****\n",
            "******************************************\n",
            "\n"
          ]
        },
        {
          "output_type": "display_data",
          "data": {
            "image/png": "[encoded data removed]",
            "text/plain": [
              "<Figure size 1440x216 with 3 Axes>"
            ]
          },
          "metadata": {
            "needs_background": "light"
          }
        }
      ],
      "metadata": {
        "id": "Nk9_P5gXVk5e",
        "colab": {
          "base_uri": "https://localhost:8080/",
          "height": 334
        },
        "outputId": "09943a86-ca8b-43b7-f655-42dbff1c2989"
      }
    },
    {
      "cell_type": "code",
      "execution_count": 155,
      "source": [
        "display_unq(df,'rev_per_month','Churn',10,'num','Rev Per Month',textlab,textlab_tar)"
      ],
      "outputs": [
        {
          "output_type": "stream",
          "name": "stdout",
          "text": [
            "**** Rev Per Month ****\n",
            "***********************\n",
            "\n"
          ]
        },
        {
          "output_type": "display_data",
          "data": {
            "text/html": [
              "<table>\n",
              "<thead>\n",
              "<tr><th>             </th><th style=\"text-align: right;\">  count</th><th style=\"text-align: right;\">  mean</th><th style=\"text-align: right;\">  std</th><th style=\"text-align: right;\">  min</th><th style=\"text-align: right;\">  25%</th><th style=\"text-align: right;\">  50%</th><th style=\"text-align: right;\">  75%</th><th style=\"text-align: right;\">  max</th></tr>\n",
              "</thead>\n",
              "<tbody>\n",
              "<tr><td>rev_per_month</td><td style=\"text-align: right;\">  11260</td><td style=\"text-align: right;\">  6.27</td><td style=\"text-align: right;\">11.49</td><td style=\"text-align: right;\">    1</td><td style=\"text-align: right;\">    3</td><td style=\"text-align: right;\">    5</td><td style=\"text-align: right;\">    7</td><td style=\"text-align: right;\">  140</td></tr>\n",
              "</tbody>\n",
              "</table>"
            ],
            "text/plain": [
              "'<table>\\n<thead>\\n<tr><th>             </th><th style=\"text-align: right;\">  count</th><th style=\"text-align: right;\">  mean</th><th style=\"text-align: right;\">  std</th><th style=\"text-align: right;\">  min</th><th style=\"text-align: right;\">  25%</th><th style=\"text-align: right;\">  50%</th><th style=\"text-align: right;\">  75%</th><th style=\"text-align: right;\">  max</th></tr>\\n</thead>\\n<tbody>\\n<tr><td>rev_per_month</td><td style=\"text-align: right;\">  11260</td><td style=\"text-align: right;\">  6.27</td><td style=\"text-align: right;\">11.49</td><td style=\"text-align: right;\">    1</td><td style=\"text-align: right;\">    3</td><td style=\"text-align: right;\">    5</td><td style=\"text-align: right;\">    7</td><td style=\"text-align: right;\">  140</td></tr>\\n</tbody>\\n</table>'"
            ]
          },
          "metadata": {}
        },
        {
          "output_type": "stream",
          "name": "stdout",
          "text": [
            "\n",
            "**** Visuallations of Feature Rev Per Month ****\n",
            "*************************************************\n",
            "\n"
          ]
        },
        {
          "output_type": "display_data",
          "data": {
            "image/png": "[encoded data removed]",
            "text/plain": [
              "<Figure size 1440x216 with 3 Axes>"
            ]
          },
          "metadata": {
            "needs_background": "light"
          }
        }
      ],
      "metadata": {
        "id": "Gyndp3TSVnl4",
        "colab": {
          "base_uri": "https://localhost:8080/",
          "height": 334
        },
        "outputId": "5bfcc421-84af-4158-da77-9f4a2fe1192a"
      }
    },
    {
      "cell_type": "code",
      "execution_count": 156,
      "source": [
        "display_unq(df,'cashback','Churn',10,'num','Cashback',textlab,textlab_tar)"
      ],
      "outputs": [
        {
          "output_type": "stream",
          "name": "stdout",
          "text": [
            "**** Cashback ****\n",
            "******************\n",
            "\n"
          ]
        },
        {
          "output_type": "display_data",
          "data": {
            "text/html": [
              "<table>\n",
              "<thead>\n",
              "<tr><th>        </th><th style=\"text-align: right;\">  count</th><th style=\"text-align: right;\">  mean</th><th style=\"text-align: right;\">   std</th><th style=\"text-align: right;\">  min</th><th style=\"text-align: right;\">  25%</th><th style=\"text-align: right;\">  50%</th><th style=\"text-align: right;\">  75%</th><th style=\"text-align: right;\">  max</th></tr>\n",
              "</thead>\n",
              "<tbody>\n",
              "<tr><td>cashback</td><td style=\"text-align: right;\">  11260</td><td style=\"text-align: right;\">194.92</td><td style=\"text-align: right;\">174.98</td><td style=\"text-align: right;\">    0</td><td style=\"text-align: right;\">  148</td><td style=\"text-align: right;\">  165</td><td style=\"text-align: right;\">  197</td><td style=\"text-align: right;\"> 1997</td></tr>\n",
              "</tbody>\n",
              "</table>"
            ],
            "text/plain": [
              "'<table>\\n<thead>\\n<tr><th>        </th><th style=\"text-align: right;\">  count</th><th style=\"text-align: right;\">  mean</th><th style=\"text-align: right;\">   std</th><th style=\"text-align: right;\">  min</th><th style=\"text-align: right;\">  25%</th><th style=\"text-align: right;\">  50%</th><th style=\"text-align: right;\">  75%</th><th style=\"text-align: right;\">  max</th></tr>\\n</thead>\\n<tbody>\\n<tr><td>cashback</td><td style=\"text-align: right;\">  11260</td><td style=\"text-align: right;\">194.92</td><td style=\"text-align: right;\">174.98</td><td style=\"text-align: right;\">    0</td><td style=\"text-align: right;\">  148</td><td style=\"text-align: right;\">  165</td><td style=\"text-align: right;\">  197</td><td style=\"text-align: right;\"> 1997</td></tr>\\n</tbody>\\n</table>'"
            ]
          },
          "metadata": {}
        },
        {
          "output_type": "stream",
          "name": "stdout",
          "text": [
            "\n",
            "**** Visuallations of Feature Cashback ****\n",
            "********************************************\n",
            "\n"
          ]
        },
        {
          "output_type": "display_data",
          "data": {
            "image/png": "[encoded data removed]",
            "text/plain": [
              "<Figure size 1440x216 with 3 Axes>"
            ]
          },
          "metadata": {
            "needs_background": "light"
          }
        }
      ],
      "metadata": {
        "id": "y0Nhmn-YVs8l",
        "colab": {
          "base_uri": "https://localhost:8080/",
          "height": 334
        },
        "outputId": "ad714044-99de-4f7a-8d28-8d284f31daba"
      }
    },
    {
      "cell_type": "code",
      "execution_count": 157,
      "source": [
        "display_unq(df,'CC_Contacted_LY','Churn',10,'num','CC_Contacted_LY',textlab,textlab_tar)"
      ],
      "outputs": [
        {
          "output_type": "stream",
          "name": "stdout",
          "text": [
            "**** Cc_Contacted_Ly ****\n",
            "*************************\n",
            "\n"
          ]
        },
        {
          "output_type": "display_data",
          "data": {
            "text/html": [
              "<table>\n",
              "<thead>\n",
              "<tr><th>               </th><th style=\"text-align: right;\">  count</th><th style=\"text-align: right;\">  mean</th><th style=\"text-align: right;\">  std</th><th style=\"text-align: right;\">  min</th><th style=\"text-align: right;\">  25%</th><th style=\"text-align: right;\">  50%</th><th style=\"text-align: right;\">  75%</th><th style=\"text-align: right;\">  max</th></tr>\n",
              "</thead>\n",
              "<tbody>\n",
              "<tr><td>CC_Contacted_LY</td><td style=\"text-align: right;\">  11260</td><td style=\"text-align: right;\"> 17.85</td><td style=\"text-align: right;\"> 8.81</td><td style=\"text-align: right;\">    4</td><td style=\"text-align: right;\">   11</td><td style=\"text-align: right;\">   16</td><td style=\"text-align: right;\">   23</td><td style=\"text-align: right;\">  132</td></tr>\n",
              "</tbody>\n",
              "</table>"
            ],
            "text/plain": [
              "'<table>\\n<thead>\\n<tr><th>               </th><th style=\"text-align: right;\">  count</th><th style=\"text-align: right;\">  mean</th><th style=\"text-align: right;\">  std</th><th style=\"text-align: right;\">  min</th><th style=\"text-align: right;\">  25%</th><th style=\"text-align: right;\">  50%</th><th style=\"text-align: right;\">  75%</th><th style=\"text-align: right;\">  max</th></tr>\\n</thead>\\n<tbody>\\n<tr><td>CC_Contacted_LY</td><td style=\"text-align: right;\">  11260</td><td style=\"text-align: right;\"> 17.85</td><td style=\"text-align: right;\"> 8.81</td><td style=\"text-align: right;\">    4</td><td style=\"text-align: right;\">   11</td><td style=\"text-align: right;\">   16</td><td style=\"text-align: right;\">   23</td><td style=\"text-align: right;\">  132</td></tr>\\n</tbody>\\n</table>'"
            ]
          },
          "metadata": {}
        },
        {
          "output_type": "stream",
          "name": "stdout",
          "text": [
            "\n",
            "**** Visuallations of Feature Cc_Contacted_Ly ****\n",
            "***************************************************\n",
            "\n"
          ]
        },
        {
          "output_type": "display_data",
          "data": {
            "image/png": "[encoded data removed]",
            "text/plain": [
              "<Figure size 1440x216 with 3 Axes>"
            ]
          },
          "metadata": {
            "needs_background": "light"
          }
        }
      ],
      "metadata": {
        "id": "ibqMH_OgWdgJ",
        "colab": {
          "base_uri": "https://localhost:8080/",
          "height": 334
        },
        "outputId": "cbc02d30-c6c6-4638-d8a3-f585b1b949a5"
      }
    },
    {
      "cell_type": "code",
      "execution_count": 168,
      "source": [
        "display_unq(df,'Gender','Churn',10,'char','Gender',textlab,textlab_tar)"
      ],
      "outputs": [
        {
          "output_type": "stream",
          "name": "stdout",
          "text": [
            "\n",
            "**** Visuallations of Feature Gender ****\n",
            "******************************************\n",
            "\n"
          ]
        },
        {
          "output_type": "display_data",
          "data": {
            "image/png": "[encoded data removed]",
            "text/plain": [
              "<Figure size 1080x288 with 2 Axes>"
            ]
          },
          "metadata": {
            "needs_background": "light"
          }
        }
      ],
      "metadata": {
        "id": "TfPZyd_Aae1r",
        "colab": {
          "base_uri": "https://localhost:8080/",
          "height": 470
        },
        "outputId": "78b8efad-310b-49bc-cf33-7657957dd91c"
      }
    },
    {
      "cell_type": "code",
      "execution_count": 170,
      "source": [
        "#'Complain_ly','CC_Agent_Score','Service_Score','City_Tier','Account_user_count','coupon_used_for_payment','Day_Since_CC_connect','account_segment','Payment','Gender','Marital_Status','Login_device'\n",
        "display_unq(df,'CC_Agent_Score','Churn',10,'char','CC_Agent_Score',textlab,textlab_tar)"
      ],
      "outputs": [
        {
          "output_type": "stream",
          "name": "stdout",
          "text": [
            "\n",
            "**** Visuallations of Feature Cc_Agent_Score ****\n",
            "**************************************************\n",
            "\n"
          ]
        },
        {
          "output_type": "display_data",
          "data": {
            "image/png": "[encoded data removed]",
            "text/plain": [
              "<Figure size 1080x288 with 2 Axes>"
            ]
          },
          "metadata": {
            "needs_background": "light"
          }
        }
      ],
      "metadata": {}
    }
  ]
}