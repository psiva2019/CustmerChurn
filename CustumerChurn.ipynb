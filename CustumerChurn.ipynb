{
  "nbformat": 4,
  "nbformat_minor": 0,
  "metadata": {
    "orig_nbformat": 4,
    "language_info": {
      "name": "python",
      "version": "3.9.6",
      "mimetype": "text/x-python",
      "codemirror_mode": {
        "name": "ipython",
        "version": 3
      },
      "pygments_lexer": "ipython3",
      "nbconvert_exporter": "python",
      "file_extension": ".py"
    },
    "kernelspec": {
      "name": "python3",
      "display_name": "Python 3.9.6 64-bit ('siva': conda)"
    },
    "interpreter": {
      "hash": "d59c341ed32160242370476a4d4f1c9ff647ac91b54f108dc9cb6abb4d107ffd"
    },
    "colab": {
      "name": "CustumerChurn.ipynb",
      "provenance": []
    },
    "accelerator": "TPU"
  },
  "cells": [
    {
      "cell_type": "code",
      "metadata": {
        "id": "1Y2grqJbA5WK"
      },
      "source": [
        "#  !pip install sidetable\n",
        "#  !pip install tabulate"
      ],
      "execution_count": 14,
      "outputs": []
    },
    {
      "cell_type": "code",
      "metadata": {
        "id": "D2xM3Jmw-ipG"
      },
      "source": [
        "import pandas as pd;import warnings\n",
        "warnings.filterwarnings('ignore')\n",
        "\n",
        "import pandas as pd\n",
        "import numpy as np\n",
        "import seaborn as sns\n",
        "import matplotlib.pyplot as plt\n",
        "\n",
        "import sidetable as stb\n",
        "\n",
        "from IPython.display import HTML, display\n",
        "import tabulate\n",
        "import re\n",
        "%matplotlib inline"
      ],
      "execution_count": 15,
      "outputs": []
    },
    {
      "cell_type": "markdown",
      "metadata": {
        "id": "me5UFTK8-ipP"
      },
      "source": [
        "## Read the data to Pandas Data Frame"
      ]
    },
    {
      "cell_type": "code",
      "metadata": {
        "colab": {
          "base_uri": "https://localhost:8080/",
          "height": 292
        },
        "id": "WnziSl7Y-ipQ",
        "outputId": "5a37f6c8-ec3f-4738-89b0-3fb28c325392"
      },
      "source": [
        "df = pd.read_csv(\"https://raw.githubusercontent.com/psiva2019/CustmerChurn/master/CustumerChurnData.csv\",error_bad_lines=False)\n",
        "df.head()"
      ],
      "execution_count": 16,
      "outputs": [
        {
          "output_type": "execute_result",
          "data": {
            "text/html": [
              "<div>\n",
              "<style scoped>\n",
              "    .dataframe tbody tr th:only-of-type {\n",
              "        vertical-align: middle;\n",
              "    }\n",
              "\n",
              "    .dataframe tbody tr th {\n",
              "        vertical-align: top;\n",
              "    }\n",
              "\n",
              "    .dataframe thead th {\n",
              "        text-align: right;\n",
              "    }\n",
              "</style>\n",
              "<table border=\"1\" class=\"dataframe\">\n",
              "  <thead>\n",
              "    <tr style=\"text-align: right;\">\n",
              "      <th></th>\n",
              "      <th>AccountID</th>\n",
              "      <th>Churn</th>\n",
              "      <th>Tenure</th>\n",
              "      <th>City_Tier</th>\n",
              "      <th>CC_Contacted_LY</th>\n",
              "      <th>Payment</th>\n",
              "      <th>Gender</th>\n",
              "      <th>Service_Score</th>\n",
              "      <th>Account_user_count</th>\n",
              "      <th>account_segment</th>\n",
              "      <th>CC_Agent_Score</th>\n",
              "      <th>Marital_Status</th>\n",
              "      <th>rev_per_month</th>\n",
              "      <th>Complain_ly</th>\n",
              "      <th>rev_growth_yoy</th>\n",
              "      <th>coupon_used_for_payment</th>\n",
              "      <th>Day_Since_CC_connect</th>\n",
              "      <th>cashback</th>\n",
              "      <th>Login_device</th>\n",
              "    </tr>\n",
              "  </thead>\n",
              "  <tbody>\n",
              "    <tr>\n",
              "      <th>0</th>\n",
              "      <td>20000</td>\n",
              "      <td>1</td>\n",
              "      <td>4</td>\n",
              "      <td>3.0</td>\n",
              "      <td>6.0</td>\n",
              "      <td>Debit Card</td>\n",
              "      <td>Female</td>\n",
              "      <td>3.0</td>\n",
              "      <td>3</td>\n",
              "      <td>Super</td>\n",
              "      <td>2.0</td>\n",
              "      <td>Single</td>\n",
              "      <td>9</td>\n",
              "      <td>1.0</td>\n",
              "      <td>11</td>\n",
              "      <td>1</td>\n",
              "      <td>5</td>\n",
              "      <td>160</td>\n",
              "      <td>Mobile</td>\n",
              "    </tr>\n",
              "    <tr>\n",
              "      <th>1</th>\n",
              "      <td>20001</td>\n",
              "      <td>1</td>\n",
              "      <td>0</td>\n",
              "      <td>1.0</td>\n",
              "      <td>8.0</td>\n",
              "      <td>UPI</td>\n",
              "      <td>Male</td>\n",
              "      <td>3.0</td>\n",
              "      <td>4</td>\n",
              "      <td>Regular Plus</td>\n",
              "      <td>3.0</td>\n",
              "      <td>Single</td>\n",
              "      <td>7</td>\n",
              "      <td>1.0</td>\n",
              "      <td>15</td>\n",
              "      <td>0</td>\n",
              "      <td>0</td>\n",
              "      <td>121</td>\n",
              "      <td>Mobile</td>\n",
              "    </tr>\n",
              "    <tr>\n",
              "      <th>2</th>\n",
              "      <td>20002</td>\n",
              "      <td>1</td>\n",
              "      <td>0</td>\n",
              "      <td>1.0</td>\n",
              "      <td>30.0</td>\n",
              "      <td>Debit Card</td>\n",
              "      <td>Male</td>\n",
              "      <td>2.0</td>\n",
              "      <td>4</td>\n",
              "      <td>Regular Plus</td>\n",
              "      <td>3.0</td>\n",
              "      <td>Single</td>\n",
              "      <td>6</td>\n",
              "      <td>1.0</td>\n",
              "      <td>14</td>\n",
              "      <td>0</td>\n",
              "      <td>3</td>\n",
              "      <td>NaN</td>\n",
              "      <td>Mobile</td>\n",
              "    </tr>\n",
              "    <tr>\n",
              "      <th>3</th>\n",
              "      <td>20003</td>\n",
              "      <td>1</td>\n",
              "      <td>0</td>\n",
              "      <td>3.0</td>\n",
              "      <td>15.0</td>\n",
              "      <td>Debit Card</td>\n",
              "      <td>Male</td>\n",
              "      <td>2.0</td>\n",
              "      <td>4</td>\n",
              "      <td>Super</td>\n",
              "      <td>5.0</td>\n",
              "      <td>Single</td>\n",
              "      <td>8</td>\n",
              "      <td>0.0</td>\n",
              "      <td>23</td>\n",
              "      <td>0</td>\n",
              "      <td>3</td>\n",
              "      <td>134</td>\n",
              "      <td>Mobile</td>\n",
              "    </tr>\n",
              "    <tr>\n",
              "      <th>4</th>\n",
              "      <td>20004</td>\n",
              "      <td>1</td>\n",
              "      <td>0</td>\n",
              "      <td>1.0</td>\n",
              "      <td>12.0</td>\n",
              "      <td>Credit Card</td>\n",
              "      <td>Male</td>\n",
              "      <td>2.0</td>\n",
              "      <td>3</td>\n",
              "      <td>Regular Plus</td>\n",
              "      <td>5.0</td>\n",
              "      <td>Single</td>\n",
              "      <td>3</td>\n",
              "      <td>0.0</td>\n",
              "      <td>11</td>\n",
              "      <td>1</td>\n",
              "      <td>3</td>\n",
              "      <td>130</td>\n",
              "      <td>Mobile</td>\n",
              "    </tr>\n",
              "  </tbody>\n",
              "</table>\n",
              "</div>"
            ],
            "text/plain": [
              "   AccountID  Churn Tenure  ...  Day_Since_CC_connect  cashback Login_device\n",
              "0      20000      1      4  ...                     5       160       Mobile\n",
              "1      20001      1      0  ...                     0       121       Mobile\n",
              "2      20002      1      0  ...                     3       NaN       Mobile\n",
              "3      20003      1      0  ...                     3       134       Mobile\n",
              "4      20004      1      0  ...                     3       130       Mobile\n",
              "\n",
              "[5 rows x 19 columns]"
            ]
          },
          "metadata": {},
          "execution_count": 16
        }
      ]
    },
    {
      "cell_type": "markdown",
      "metadata": {
        "id": "uwQo31wf-ipT"
      },
      "source": [
        "## Data Report"
      ]
    },
    {
      "cell_type": "code",
      "metadata": {
        "colab": {
          "base_uri": "https://localhost:8080/"
        },
        "id": "WpgyFFnb-ipU",
        "outputId": "90ff64ab-0e45-444d-bc87-37fc47844c27"
      },
      "source": [
        "#Shape of the Data\n",
        "print('****Shape of the hotel data****')\n",
        "print('********************************')\n",
        "print('No of rows\\t:\\t{}\\nNo of columns\\t:\\t{}'.format(df.shape[0],df.shape[1]))"
      ],
      "execution_count": 17,
      "outputs": [
        {
          "output_type": "stream",
          "text": [
            "****Shape of the hotel data****\n",
            "********************************\n",
            "No of rows\t:\t11260\n",
            "No of columns\t:\t19\n"
          ],
          "name": "stdout"
        }
      ]
    },
    {
      "cell_type": "code",
      "metadata": {
        "colab": {
          "base_uri": "https://localhost:8080/"
        },
        "id": "csPUG3yx-ipV",
        "outputId": "8d8aeb29-42e9-444e-99f7-04ea33a6a59a"
      },
      "source": [
        "print('****Show infomation of the train data****')\n",
        "print('***********************************')\n",
        "df.info()"
      ],
      "execution_count": 18,
      "outputs": [
        {
          "output_type": "stream",
          "text": [
            "****Show infomation of the train data****\n",
            "***********************************\n",
            "<class 'pandas.core.frame.DataFrame'>\n",
            "RangeIndex: 11260 entries, 0 to 11259\n",
            "Data columns (total 19 columns):\n",
            " #   Column                   Non-Null Count  Dtype  \n",
            "---  ------                   --------------  -----  \n",
            " 0   AccountID                11260 non-null  int64  \n",
            " 1   Churn                    11260 non-null  int64  \n",
            " 2   Tenure                   11158 non-null  object \n",
            " 3   City_Tier                11148 non-null  float64\n",
            " 4   CC_Contacted_LY          11158 non-null  float64\n",
            " 5   Payment                  11151 non-null  object \n",
            " 6   Gender                   11152 non-null  object \n",
            " 7   Service_Score            11162 non-null  float64\n",
            " 8   Account_user_count       11148 non-null  object \n",
            " 9   account_segment          11163 non-null  object \n",
            " 10  CC_Agent_Score           11144 non-null  float64\n",
            " 11  Marital_Status           11048 non-null  object \n",
            " 12  rev_per_month            11158 non-null  object \n",
            " 13  Complain_ly              10903 non-null  float64\n",
            " 14  rev_growth_yoy           11260 non-null  object \n",
            " 15  coupon_used_for_payment  11260 non-null  object \n",
            " 16  Day_Since_CC_connect     10903 non-null  object \n",
            " 17  cashback                 10789 non-null  object \n",
            " 18  Login_device             11039 non-null  object \n",
            "dtypes: float64(5), int64(2), object(12)\n",
            "memory usage: 1.6+ MB\n"
          ],
          "name": "stdout"
        }
      ]
    },
    {
      "cell_type": "code",
      "metadata": {
        "colab": {
          "base_uri": "https://localhost:8080/"
        },
        "id": "bQ-Hx5ng-ipW",
        "outputId": "61cc31ab-ac55-4982-db39-17c3d44aaa3e"
      },
      "source": [
        "#Check for duplicate values\n",
        "print('****Duplicates data in the train dataset without EmployeeID Column****')\n",
        "print('**********************************************************************')\n",
        "\n",
        "dups = df.loc[:, ~df.columns. isin(['EmployeeID'])].duplicated().sum()\n",
        "if dups ==0:\n",
        "    print('There is no duplicate values in the data.') \n",
        "else:\n",
        "    print('There are {} duplicates in the data which is {}% of total data'.format(dups,round((dups/df.shape[0])*100,2)))"
      ],
      "execution_count": 19,
      "outputs": [
        {
          "output_type": "stream",
          "text": [
            "****Duplicates data in the train dataset without EmployeeID Column****\n",
            "**********************************************************************\n",
            "There is no duplicate values in the data.\n"
          ],
          "name": "stdout"
        }
      ]
    },
    {
      "cell_type": "code",
      "metadata": {
        "colab": {
          "base_uri": "https://localhost:8080/"
        },
        "id": "wbIYJ4ba-ipY",
        "outputId": "4cf6d0ab-a32b-45d2-eafd-cfc7d0982473"
      },
      "source": [
        "#Check for missing value\n",
        "print('****Missing Values in the Dataset****')\n",
        "print('*************************************')\n",
        "msv = df.isnull().sum()[df.isnull().sum()>0]\n",
        "if msv.empty:\n",
        "    print('There is no missing values in the data.') \n",
        "else:\n",
        "    for i in range(msv.count()):\n",
        "        print('{} Missing values in {} which is {}% of total data ({})'.format(msv[i],msv.index[i],round(((msv[i]/df.shape[0])*100),2),df[msv.index[i]].dtype))"
      ],
      "execution_count": 20,
      "outputs": [
        {
          "output_type": "stream",
          "text": [
            "****Missing Values in the Dataset****\n",
            "*************************************\n",
            "102 Missing values in Tenure which is 0.91% of total data (object)\n",
            "112 Missing values in City_Tier which is 0.99% of total data (float64)\n",
            "102 Missing values in CC_Contacted_LY which is 0.91% of total data (float64)\n",
            "109 Missing values in Payment which is 0.97% of total data (object)\n",
            "108 Missing values in Gender which is 0.96% of total data (object)\n",
            "98 Missing values in Service_Score which is 0.87% of total data (float64)\n",
            "112 Missing values in Account_user_count which is 0.99% of total data (object)\n",
            "97 Missing values in account_segment which is 0.86% of total data (object)\n",
            "116 Missing values in CC_Agent_Score which is 1.03% of total data (float64)\n",
            "212 Missing values in Marital_Status which is 1.88% of total data (object)\n",
            "102 Missing values in rev_per_month which is 0.91% of total data (object)\n",
            "357 Missing values in Complain_ly which is 3.17% of total data (float64)\n",
            "357 Missing values in Day_Since_CC_connect which is 3.17% of total data (object)\n",
            "471 Missing values in cashback which is 4.18% of total data (object)\n",
            "221 Missing values in Login_device which is 1.96% of total data (object)\n"
          ],
          "name": "stdout"
        }
      ]
    },
    {
      "cell_type": "code",
      "metadata": {
        "id": "y1OQDpsGnsb_"
      },
      "source": [
        "def display_dataframe(df,dtypeval):\n",
        "    numeric_col_mask = df.dtypes.apply(lambda d: issubclass(np.dtype(d).type, dtypeval))\n",
        "\n",
        "    # Dict used to center the table headers\n",
        "    d = dict(selector=\"th\",\n",
        "        props=[('text-align', 'left')])\n",
        "\n",
        "    # Style\n",
        "    display(df.style.set_properties(subset=df.columns[numeric_col_mask], \n",
        "                            **{'width':'15em', 'height':'3em','text-align':'left','border-color':'White','border-width':'thin'})\\\n",
        "            .set_properties(subset=df.columns[~numeric_col_mask], \n",
        "                            **{'width':'15em', 'text-align':'left','border-color':'White','border-width':'thin'})\\\n",
        "            .format(lambda x: '{:,.0f}'.format(x) if x > 1e3 else '{:,.2f}'.format(x), # format the numeric values\n",
        "                    subset=pd.IndexSlice[:,df.columns[numeric_col_mask]])\\\n",
        "            .hide_index()\\\n",
        "\n",
        "#            .highlight_max('color: green')\\\n",
        "            .set_table_styles([d])) # center the header"
      ],
      "execution_count": 21,
      "outputs": []
    },
    {
      "cell_type": "code",
      "metadata": {
        "id": "85VPa95JaMhF"
      },
      "source": [
        "def check_sp(Vars,fixit,data_df):\n",
        "  tot = len(Vars['num'])+len(Vars['chars'])\n",
        "\n",
        "  s = [[None for j in range(3)] for i in range(tot)]\n",
        "  i=0\n",
        "  for type_var in Vars:\n",
        "    for var in Vars[type_var]:\n",
        "      livars=[]\n",
        "      li=data_df[var].unique()\n",
        "      if(type_var=='num'):\n",
        "        livars = list(filter(lambda x: (str(x).replace('.','').isdigit()!=True and str(x)!='nan'),li))\n",
        "        if(fixit==True):\n",
        "          for k in livars:\n",
        "            data_df[var].replace(k,np.nan,inplace=True)\n",
        "      else:\n",
        "        li1 = list(filter(lambda x: (str(x).replace(' ','').isalpha()!=True and str(x)!='nan'),li))\n",
        "        pattern = r'\\W'\n",
        "        \n",
        "        li2 = []\n",
        "        for j in li1:\n",
        "          find = re.compile(pattern)\n",
        "          ff = find.findall(j.replace(' ',''))[0]\n",
        "          li2.append(ff)\n",
        "        livars = list(set(li2))\n",
        "      s[i][0] = var\n",
        "      s[i][1] = livars if(livars!=[]) else 'No Special Chars'\n",
        "      s[i][2] = 'Numeric' if(type_var=='num') else 'Charecter'\n",
        "      i=i+1\n",
        "  rdf = pd.DataFrame(data=s,columns=['Column','SpecialChars','DataType'])\n",
        "  return(rdf)"
      ],
      "execution_count": 22,
      "outputs": []
    },
    {
      "cell_type": "code",
      "metadata": {
        "colab": {
          "base_uri": "https://localhost:8080/",
          "height": 271
        },
        "id": "9yB7_nyYzgPH",
        "outputId": "f5e84f2c-5ba9-4399-ca0d-82d54fbc8452"
      },
      "source": [
        "Vars = {'num': ['Tenure','Account_user_count','rev_per_month','coupon_used_for_payment','Day_Since_CC_connect','cashback'],'chars':['account_segment','Payment','Gender','Marital_Status','Login_device'] }\n",
        "\n",
        "spdf = check_sp(Vars,True,df)\n",
        "display_dataframe(spdf,str)"
      ],
      "execution_count": 23,
      "outputs": [
        {
          "output_type": "display_data",
          "data": {
            "text/html": [
              "<style  type=\"text/css\" >\n",
              "    #T_d915a5dc_08c0_11ec_a61f_0242ac1c0002 th {\n",
              "          text-align: left;\n",
              "    }#T_d915a5dc_08c0_11ec_a61f_0242ac1c0002row0_col0,#T_d915a5dc_08c0_11ec_a61f_0242ac1c0002row0_col1,#T_d915a5dc_08c0_11ec_a61f_0242ac1c0002row0_col2,#T_d915a5dc_08c0_11ec_a61f_0242ac1c0002row1_col0,#T_d915a5dc_08c0_11ec_a61f_0242ac1c0002row1_col1,#T_d915a5dc_08c0_11ec_a61f_0242ac1c0002row1_col2,#T_d915a5dc_08c0_11ec_a61f_0242ac1c0002row2_col0,#T_d915a5dc_08c0_11ec_a61f_0242ac1c0002row2_col1,#T_d915a5dc_08c0_11ec_a61f_0242ac1c0002row2_col2,#T_d915a5dc_08c0_11ec_a61f_0242ac1c0002row3_col0,#T_d915a5dc_08c0_11ec_a61f_0242ac1c0002row3_col1,#T_d915a5dc_08c0_11ec_a61f_0242ac1c0002row3_col2,#T_d915a5dc_08c0_11ec_a61f_0242ac1c0002row4_col0,#T_d915a5dc_08c0_11ec_a61f_0242ac1c0002row4_col1,#T_d915a5dc_08c0_11ec_a61f_0242ac1c0002row4_col2,#T_d915a5dc_08c0_11ec_a61f_0242ac1c0002row5_col0,#T_d915a5dc_08c0_11ec_a61f_0242ac1c0002row5_col1,#T_d915a5dc_08c0_11ec_a61f_0242ac1c0002row5_col2,#T_d915a5dc_08c0_11ec_a61f_0242ac1c0002row6_col0,#T_d915a5dc_08c0_11ec_a61f_0242ac1c0002row6_col1,#T_d915a5dc_08c0_11ec_a61f_0242ac1c0002row6_col2,#T_d915a5dc_08c0_11ec_a61f_0242ac1c0002row7_col0,#T_d915a5dc_08c0_11ec_a61f_0242ac1c0002row7_col1,#T_d915a5dc_08c0_11ec_a61f_0242ac1c0002row7_col2,#T_d915a5dc_08c0_11ec_a61f_0242ac1c0002row8_col0,#T_d915a5dc_08c0_11ec_a61f_0242ac1c0002row8_col1,#T_d915a5dc_08c0_11ec_a61f_0242ac1c0002row8_col2,#T_d915a5dc_08c0_11ec_a61f_0242ac1c0002row9_col0,#T_d915a5dc_08c0_11ec_a61f_0242ac1c0002row9_col1,#T_d915a5dc_08c0_11ec_a61f_0242ac1c0002row9_col2,#T_d915a5dc_08c0_11ec_a61f_0242ac1c0002row10_col0,#T_d915a5dc_08c0_11ec_a61f_0242ac1c0002row10_col1,#T_d915a5dc_08c0_11ec_a61f_0242ac1c0002row10_col2{\n",
              "            width:  15em;\n",
              "            text-align:  left;\n",
              "            border-color:  White;\n",
              "            border-width:  thin;\n",
              "        }</style><table id=\"T_d915a5dc_08c0_11ec_a61f_0242ac1c0002\" ><thead>    <tr>        <th class=\"col_heading level0 col0\" >Column</th>        <th class=\"col_heading level0 col1\" >SpecialChars</th>        <th class=\"col_heading level0 col2\" >DataType</th>    </tr></thead><tbody>\n",
              "                <tr>\n",
              "                                <td id=\"T_d915a5dc_08c0_11ec_a61f_0242ac1c0002row0_col0\" class=\"data row0 col0\" >Tenure</td>\n",
              "                        <td id=\"T_d915a5dc_08c0_11ec_a61f_0242ac1c0002row0_col1\" class=\"data row0 col1\" >['#']</td>\n",
              "                        <td id=\"T_d915a5dc_08c0_11ec_a61f_0242ac1c0002row0_col2\" class=\"data row0 col2\" >Numeric</td>\n",
              "            </tr>\n",
              "            <tr>\n",
              "                                <td id=\"T_d915a5dc_08c0_11ec_a61f_0242ac1c0002row1_col0\" class=\"data row1 col0\" >Account_user_count</td>\n",
              "                        <td id=\"T_d915a5dc_08c0_11ec_a61f_0242ac1c0002row1_col1\" class=\"data row1 col1\" >['@']</td>\n",
              "                        <td id=\"T_d915a5dc_08c0_11ec_a61f_0242ac1c0002row1_col2\" class=\"data row1 col2\" >Numeric</td>\n",
              "            </tr>\n",
              "            <tr>\n",
              "                                <td id=\"T_d915a5dc_08c0_11ec_a61f_0242ac1c0002row2_col0\" class=\"data row2 col0\" >rev_per_month</td>\n",
              "                        <td id=\"T_d915a5dc_08c0_11ec_a61f_0242ac1c0002row2_col1\" class=\"data row2 col1\" >['+']</td>\n",
              "                        <td id=\"T_d915a5dc_08c0_11ec_a61f_0242ac1c0002row2_col2\" class=\"data row2 col2\" >Numeric</td>\n",
              "            </tr>\n",
              "            <tr>\n",
              "                                <td id=\"T_d915a5dc_08c0_11ec_a61f_0242ac1c0002row3_col0\" class=\"data row3 col0\" >coupon_used_for_payment</td>\n",
              "                        <td id=\"T_d915a5dc_08c0_11ec_a61f_0242ac1c0002row3_col1\" class=\"data row3 col1\" >['#', '$', '*']</td>\n",
              "                        <td id=\"T_d915a5dc_08c0_11ec_a61f_0242ac1c0002row3_col2\" class=\"data row3 col2\" >Numeric</td>\n",
              "            </tr>\n",
              "            <tr>\n",
              "                                <td id=\"T_d915a5dc_08c0_11ec_a61f_0242ac1c0002row4_col0\" class=\"data row4 col0\" >Day_Since_CC_connect</td>\n",
              "                        <td id=\"T_d915a5dc_08c0_11ec_a61f_0242ac1c0002row4_col1\" class=\"data row4 col1\" >['$']</td>\n",
              "                        <td id=\"T_d915a5dc_08c0_11ec_a61f_0242ac1c0002row4_col2\" class=\"data row4 col2\" >Numeric</td>\n",
              "            </tr>\n",
              "            <tr>\n",
              "                                <td id=\"T_d915a5dc_08c0_11ec_a61f_0242ac1c0002row5_col0\" class=\"data row5 col0\" >cashback</td>\n",
              "                        <td id=\"T_d915a5dc_08c0_11ec_a61f_0242ac1c0002row5_col1\" class=\"data row5 col1\" >['$']</td>\n",
              "                        <td id=\"T_d915a5dc_08c0_11ec_a61f_0242ac1c0002row5_col2\" class=\"data row5 col2\" >Numeric</td>\n",
              "            </tr>\n",
              "            <tr>\n",
              "                                <td id=\"T_d915a5dc_08c0_11ec_a61f_0242ac1c0002row6_col0\" class=\"data row6 col0\" >account_segment</td>\n",
              "                        <td id=\"T_d915a5dc_08c0_11ec_a61f_0242ac1c0002row6_col1\" class=\"data row6 col1\" >['+']</td>\n",
              "                        <td id=\"T_d915a5dc_08c0_11ec_a61f_0242ac1c0002row6_col2\" class=\"data row6 col2\" >Charecter</td>\n",
              "            </tr>\n",
              "            <tr>\n",
              "                                <td id=\"T_d915a5dc_08c0_11ec_a61f_0242ac1c0002row7_col0\" class=\"data row7 col0\" >Payment</td>\n",
              "                        <td id=\"T_d915a5dc_08c0_11ec_a61f_0242ac1c0002row7_col1\" class=\"data row7 col1\" >No Special Chars</td>\n",
              "                        <td id=\"T_d915a5dc_08c0_11ec_a61f_0242ac1c0002row7_col2\" class=\"data row7 col2\" >Charecter</td>\n",
              "            </tr>\n",
              "            <tr>\n",
              "                                <td id=\"T_d915a5dc_08c0_11ec_a61f_0242ac1c0002row8_col0\" class=\"data row8 col0\" >Gender</td>\n",
              "                        <td id=\"T_d915a5dc_08c0_11ec_a61f_0242ac1c0002row8_col1\" class=\"data row8 col1\" >No Special Chars</td>\n",
              "                        <td id=\"T_d915a5dc_08c0_11ec_a61f_0242ac1c0002row8_col2\" class=\"data row8 col2\" >Charecter</td>\n",
              "            </tr>\n",
              "            <tr>\n",
              "                                <td id=\"T_d915a5dc_08c0_11ec_a61f_0242ac1c0002row9_col0\" class=\"data row9 col0\" >Marital_Status</td>\n",
              "                        <td id=\"T_d915a5dc_08c0_11ec_a61f_0242ac1c0002row9_col1\" class=\"data row9 col1\" >No Special Chars</td>\n",
              "                        <td id=\"T_d915a5dc_08c0_11ec_a61f_0242ac1c0002row9_col2\" class=\"data row9 col2\" >Charecter</td>\n",
              "            </tr>\n",
              "            <tr>\n",
              "                                <td id=\"T_d915a5dc_08c0_11ec_a61f_0242ac1c0002row10_col0\" class=\"data row10 col0\" >Login_device</td>\n",
              "                        <td id=\"T_d915a5dc_08c0_11ec_a61f_0242ac1c0002row10_col1\" class=\"data row10 col1\" >['&']</td>\n",
              "                        <td id=\"T_d915a5dc_08c0_11ec_a61f_0242ac1c0002row10_col2\" class=\"data row10 col2\" >Charecter</td>\n",
              "            </tr>\n",
              "    </tbody></table>"
            ],
            "text/plain": [
              "<pandas.io.formats.style.Styler at 0x7faea4305690>"
            ]
          },
          "metadata": {}
        }
      ]
    },
    {
      "cell_type": "code",
      "metadata": {
        "colab": {
          "base_uri": "https://localhost:8080/"
        },
        "id": "wp5EeP3R25w2",
        "outputId": "275812e1-6a39-4e0c-e71c-b6ab3c8938d6"
      },
      "source": [
        "df['account_segment'].value_counts()"
      ],
      "execution_count": 24,
      "outputs": [
        {
          "output_type": "execute_result",
          "data": {
            "text/plain": [
              "Super           4062\n",
              "Regular Plus    3862\n",
              "HNI             1639\n",
              "Super Plus       771\n",
              "Regular          520\n",
              "Regular +        262\n",
              "Super +           47\n",
              "Name: account_segment, dtype: int64"
            ]
          },
          "metadata": {},
          "execution_count": 24
        }
      ]
    },
    {
      "cell_type": "code",
      "metadata": {
        "colab": {
          "base_uri": "https://localhost:8080/"
        },
        "id": "pfJOU_iN3fFI",
        "outputId": "5c19bc6f-a86a-466f-a953-ad53e05533f7"
      },
      "source": [
        "df['Login_device'].value_counts()"
      ],
      "execution_count": 25,
      "outputs": [
        {
          "output_type": "execute_result",
          "data": {
            "text/plain": [
              "Mobile      7482\n",
              "Computer    3018\n",
              "&&&&         539\n",
              "Name: Login_device, dtype: int64"
            ]
          },
          "metadata": {},
          "execution_count": 25
        }
      ]
    },
    {
      "cell_type": "code",
      "metadata": {
        "id": "nocJQEHV4F2G"
      },
      "source": [
        "df['account_segment'].replace('Super +','Super Plus',inplace=True)\n",
        "df['account_segment'].replace('Regular +','Regular Plus',inplace=True)\n",
        "df['Login_device'].replace('&&&&','Mobile',inplace=True)\n",
        "\n",
        "df['Gender'].replace('Male','M',inplace=True)\n",
        "df['Gender'].replace('Female','F',inplace=True)"
      ],
      "execution_count": 26,
      "outputs": []
    },
    {
      "cell_type": "code",
      "metadata": {
        "colab": {
          "base_uri": "https://localhost:8080/",
          "height": 271
        },
        "id": "SrahBuKmzgPS",
        "outputId": "a68c4b1b-fed0-4a4c-a2fb-7ce5ee5e2f1b"
      },
      "source": [
        "spdf = check_sp(Vars,False,df)\n",
        "display_dataframe(spdf,str)"
      ],
      "execution_count": 27,
      "outputs": [
        {
          "output_type": "display_data",
          "data": {
            "text/html": [
              "<style  type=\"text/css\" >\n",
              "    #T_d926bac0_08c0_11ec_a61f_0242ac1c0002 th {\n",
              "          text-align: left;\n",
              "    }#T_d926bac0_08c0_11ec_a61f_0242ac1c0002row0_col0,#T_d926bac0_08c0_11ec_a61f_0242ac1c0002row0_col1,#T_d926bac0_08c0_11ec_a61f_0242ac1c0002row0_col2,#T_d926bac0_08c0_11ec_a61f_0242ac1c0002row1_col0,#T_d926bac0_08c0_11ec_a61f_0242ac1c0002row1_col1,#T_d926bac0_08c0_11ec_a61f_0242ac1c0002row1_col2,#T_d926bac0_08c0_11ec_a61f_0242ac1c0002row2_col0,#T_d926bac0_08c0_11ec_a61f_0242ac1c0002row2_col1,#T_d926bac0_08c0_11ec_a61f_0242ac1c0002row2_col2,#T_d926bac0_08c0_11ec_a61f_0242ac1c0002row3_col0,#T_d926bac0_08c0_11ec_a61f_0242ac1c0002row3_col1,#T_d926bac0_08c0_11ec_a61f_0242ac1c0002row3_col2,#T_d926bac0_08c0_11ec_a61f_0242ac1c0002row4_col0,#T_d926bac0_08c0_11ec_a61f_0242ac1c0002row4_col1,#T_d926bac0_08c0_11ec_a61f_0242ac1c0002row4_col2,#T_d926bac0_08c0_11ec_a61f_0242ac1c0002row5_col0,#T_d926bac0_08c0_11ec_a61f_0242ac1c0002row5_col1,#T_d926bac0_08c0_11ec_a61f_0242ac1c0002row5_col2,#T_d926bac0_08c0_11ec_a61f_0242ac1c0002row6_col0,#T_d926bac0_08c0_11ec_a61f_0242ac1c0002row6_col1,#T_d926bac0_08c0_11ec_a61f_0242ac1c0002row6_col2,#T_d926bac0_08c0_11ec_a61f_0242ac1c0002row7_col0,#T_d926bac0_08c0_11ec_a61f_0242ac1c0002row7_col1,#T_d926bac0_08c0_11ec_a61f_0242ac1c0002row7_col2,#T_d926bac0_08c0_11ec_a61f_0242ac1c0002row8_col0,#T_d926bac0_08c0_11ec_a61f_0242ac1c0002row8_col1,#T_d926bac0_08c0_11ec_a61f_0242ac1c0002row8_col2,#T_d926bac0_08c0_11ec_a61f_0242ac1c0002row9_col0,#T_d926bac0_08c0_11ec_a61f_0242ac1c0002row9_col1,#T_d926bac0_08c0_11ec_a61f_0242ac1c0002row9_col2,#T_d926bac0_08c0_11ec_a61f_0242ac1c0002row10_col0,#T_d926bac0_08c0_11ec_a61f_0242ac1c0002row10_col1,#T_d926bac0_08c0_11ec_a61f_0242ac1c0002row10_col2{\n",
              "            width:  15em;\n",
              "            text-align:  left;\n",
              "            border-color:  White;\n",
              "            border-width:  thin;\n",
              "        }</style><table id=\"T_d926bac0_08c0_11ec_a61f_0242ac1c0002\" ><thead>    <tr>        <th class=\"col_heading level0 col0\" >Column</th>        <th class=\"col_heading level0 col1\" >SpecialChars</th>        <th class=\"col_heading level0 col2\" >DataType</th>    </tr></thead><tbody>\n",
              "                <tr>\n",
              "                                <td id=\"T_d926bac0_08c0_11ec_a61f_0242ac1c0002row0_col0\" class=\"data row0 col0\" >Tenure</td>\n",
              "                        <td id=\"T_d926bac0_08c0_11ec_a61f_0242ac1c0002row0_col1\" class=\"data row0 col1\" >No Special Chars</td>\n",
              "                        <td id=\"T_d926bac0_08c0_11ec_a61f_0242ac1c0002row0_col2\" class=\"data row0 col2\" >Numeric</td>\n",
              "            </tr>\n",
              "            <tr>\n",
              "                                <td id=\"T_d926bac0_08c0_11ec_a61f_0242ac1c0002row1_col0\" class=\"data row1 col0\" >Account_user_count</td>\n",
              "                        <td id=\"T_d926bac0_08c0_11ec_a61f_0242ac1c0002row1_col1\" class=\"data row1 col1\" >No Special Chars</td>\n",
              "                        <td id=\"T_d926bac0_08c0_11ec_a61f_0242ac1c0002row1_col2\" class=\"data row1 col2\" >Numeric</td>\n",
              "            </tr>\n",
              "            <tr>\n",
              "                                <td id=\"T_d926bac0_08c0_11ec_a61f_0242ac1c0002row2_col0\" class=\"data row2 col0\" >rev_per_month</td>\n",
              "                        <td id=\"T_d926bac0_08c0_11ec_a61f_0242ac1c0002row2_col1\" class=\"data row2 col1\" >No Special Chars</td>\n",
              "                        <td id=\"T_d926bac0_08c0_11ec_a61f_0242ac1c0002row2_col2\" class=\"data row2 col2\" >Numeric</td>\n",
              "            </tr>\n",
              "            <tr>\n",
              "                                <td id=\"T_d926bac0_08c0_11ec_a61f_0242ac1c0002row3_col0\" class=\"data row3 col0\" >coupon_used_for_payment</td>\n",
              "                        <td id=\"T_d926bac0_08c0_11ec_a61f_0242ac1c0002row3_col1\" class=\"data row3 col1\" >No Special Chars</td>\n",
              "                        <td id=\"T_d926bac0_08c0_11ec_a61f_0242ac1c0002row3_col2\" class=\"data row3 col2\" >Numeric</td>\n",
              "            </tr>\n",
              "            <tr>\n",
              "                                <td id=\"T_d926bac0_08c0_11ec_a61f_0242ac1c0002row4_col0\" class=\"data row4 col0\" >Day_Since_CC_connect</td>\n",
              "                        <td id=\"T_d926bac0_08c0_11ec_a61f_0242ac1c0002row4_col1\" class=\"data row4 col1\" >No Special Chars</td>\n",
              "                        <td id=\"T_d926bac0_08c0_11ec_a61f_0242ac1c0002row4_col2\" class=\"data row4 col2\" >Numeric</td>\n",
              "            </tr>\n",
              "            <tr>\n",
              "                                <td id=\"T_d926bac0_08c0_11ec_a61f_0242ac1c0002row5_col0\" class=\"data row5 col0\" >cashback</td>\n",
              "                        <td id=\"T_d926bac0_08c0_11ec_a61f_0242ac1c0002row5_col1\" class=\"data row5 col1\" >No Special Chars</td>\n",
              "                        <td id=\"T_d926bac0_08c0_11ec_a61f_0242ac1c0002row5_col2\" class=\"data row5 col2\" >Numeric</td>\n",
              "            </tr>\n",
              "            <tr>\n",
              "                                <td id=\"T_d926bac0_08c0_11ec_a61f_0242ac1c0002row6_col0\" class=\"data row6 col0\" >account_segment</td>\n",
              "                        <td id=\"T_d926bac0_08c0_11ec_a61f_0242ac1c0002row6_col1\" class=\"data row6 col1\" >No Special Chars</td>\n",
              "                        <td id=\"T_d926bac0_08c0_11ec_a61f_0242ac1c0002row6_col2\" class=\"data row6 col2\" >Charecter</td>\n",
              "            </tr>\n",
              "            <tr>\n",
              "                                <td id=\"T_d926bac0_08c0_11ec_a61f_0242ac1c0002row7_col0\" class=\"data row7 col0\" >Payment</td>\n",
              "                        <td id=\"T_d926bac0_08c0_11ec_a61f_0242ac1c0002row7_col1\" class=\"data row7 col1\" >No Special Chars</td>\n",
              "                        <td id=\"T_d926bac0_08c0_11ec_a61f_0242ac1c0002row7_col2\" class=\"data row7 col2\" >Charecter</td>\n",
              "            </tr>\n",
              "            <tr>\n",
              "                                <td id=\"T_d926bac0_08c0_11ec_a61f_0242ac1c0002row8_col0\" class=\"data row8 col0\" >Gender</td>\n",
              "                        <td id=\"T_d926bac0_08c0_11ec_a61f_0242ac1c0002row8_col1\" class=\"data row8 col1\" >No Special Chars</td>\n",
              "                        <td id=\"T_d926bac0_08c0_11ec_a61f_0242ac1c0002row8_col2\" class=\"data row8 col2\" >Charecter</td>\n",
              "            </tr>\n",
              "            <tr>\n",
              "                                <td id=\"T_d926bac0_08c0_11ec_a61f_0242ac1c0002row9_col0\" class=\"data row9 col0\" >Marital_Status</td>\n",
              "                        <td id=\"T_d926bac0_08c0_11ec_a61f_0242ac1c0002row9_col1\" class=\"data row9 col1\" >No Special Chars</td>\n",
              "                        <td id=\"T_d926bac0_08c0_11ec_a61f_0242ac1c0002row9_col2\" class=\"data row9 col2\" >Charecter</td>\n",
              "            </tr>\n",
              "            <tr>\n",
              "                                <td id=\"T_d926bac0_08c0_11ec_a61f_0242ac1c0002row10_col0\" class=\"data row10 col0\" >Login_device</td>\n",
              "                        <td id=\"T_d926bac0_08c0_11ec_a61f_0242ac1c0002row10_col1\" class=\"data row10 col1\" >No Special Chars</td>\n",
              "                        <td id=\"T_d926bac0_08c0_11ec_a61f_0242ac1c0002row10_col2\" class=\"data row10 col2\" >Charecter</td>\n",
              "            </tr>\n",
              "    </tbody></table>"
            ],
            "text/plain": [
              "<pandas.io.formats.style.Styler at 0x7faeb2abb550>"
            ]
          },
          "metadata": {}
        }
      ]
    },
    {
      "cell_type": "code",
      "metadata": {
        "id": "1NICdX1qATmS"
      },
      "source": [
        "Vars = {'num': ['Tenure','rev_per_month','cashback','CC_Contacted_LY'],'chars':['Complain_ly','CC_Agent_Score','Service_Score','City_Tier','Account_user_count','coupon_used_for_payment','Day_Since_CC_connect','account_segment','Payment','Gender','Marital_Status','Login_device'] }\n",
        "\n",
        "for vars in Vars['chars']:\n",
        "  df[vars].fillna(df[vars].mode()[0],inplace=True)\n",
        "\n",
        "for vars in Vars['num']:\n",
        "  df[vars].fillna(df[vars].median(),inplace=True)\n",
        "  if(df[vars].dtype=='object'):\n",
        "    df[vars] = df[vars].astype('int64')"
      ],
      "execution_count": 28,
      "outputs": []
    },
    {
      "cell_type": "code",
      "metadata": {
        "colab": {
          "base_uri": "https://localhost:8080/"
        },
        "id": "B0lz4dh97x6v",
        "outputId": "b2d1e9cf-7eb1-4902-af95-4655263f3d54"
      },
      "source": [
        "#Check for missing value\n",
        "print('****Missing Values in the Dataset****')\n",
        "print('*************************************')\n",
        "msv = df.isnull().sum()[df.isnull().sum()>0]\n",
        "if msv.empty:\n",
        "    print('There is no missing values in the data.') \n",
        "else:\n",
        "    for i in range(msv.count()):\n",
        "        print('{} Missing values in {} which is {}% of total data ({})'.format(msv[i],msv.index[i],round(((msv[i]/df.shape[0])*100),2),df[msv.index[i]].dtype))"
      ],
      "execution_count": 29,
      "outputs": [
        {
          "output_type": "stream",
          "text": [
            "****Missing Values in the Dataset****\n",
            "*************************************\n",
            "There is no missing values in the data.\n"
          ],
          "name": "stdout"
        }
      ]
    },
    {
      "cell_type": "code",
      "metadata": {
        "id": "is2tRmnjMdlK"
      },
      "source": [
        "def unq_count_new(df,var,top_val,tit,dpn):\n",
        "    #var='meal'\n",
        "\n",
        "    if(top_val == 0):\n",
        "        perclass = pd.DataFrame(df[var].value_counts(normalize=True,dropna=dpn))\n",
        "        tardisval = pd.DataFrame(df[var].value_counts(dropna=dpn))\n",
        "    else:\n",
        "        perclass = pd.DataFrame(df[var].value_counts(normalize=True,dropna=dpn)[df[var].value_counts(dropna=dpn)>top_val])\n",
        "        tardisval = pd.DataFrame(df[var].value_counts(dropna=dpn)[df[var].value_counts(dropna=dpn)>top_val])\n",
        "        \n",
        "    disdf = pd.concat([tardisval,round(perclass*100,3)],axis=1)\n",
        "    disdf.reset_index()\n",
        "    disdf.columns=['Count','Percent']\n",
        "\n",
        "    str1 = f'**** Unique value distribution of {tit.title()} ******'\n",
        "\n",
        "    width = len(str1)\n",
        "    filler = '*'\n",
        "\n",
        "    print(str1)\n",
        "    print(f'{\"*\" :{filler}>{width}}\\n')\n",
        "\n",
        "    print(tabulate.tabulate(disdf, tablefmt='fancy_grid',headers=[tit.title(),'Count','Percent']))\n",
        "    #return (disdf)"
      ],
      "execution_count": 30,
      "outputs": []
    },
    {
      "cell_type": "code",
      "metadata": {
        "id": "47zKRHJwRqIQ",
        "outputId": "a6551e46-96b8-47f9-f916-77fc4dddb485",
        "colab": {
          "base_uri": "https://localhost:8080/",
          "height": 293
        }
      },
      "source": [
        "typevar='num'\n",
        "tit='Tenure'\n",
        "dff=df\n",
        "var='Tenure'\n",
        "tar='Churn'\n",
        "bins=10\n",
        "\n",
        "\n",
        "if(typevar=='num'):\n",
        "  fig, axis=plt.subplots(nrows=1,ncols=3)\n",
        "  fig.set_size_inches(20,3)\n",
        "\n",
        "  str1 = f'**** {tit.title()} ****'\n",
        "\n",
        "  width = len(str1)\n",
        "  filler = '*'\n",
        "\n",
        "  print(str1)\n",
        "  print(f'{\"*\" :{filler}>{width}}\\n')\n",
        "\n",
        "  dff_r = pd.DataFrame(round(dff[var].describe(),2)).T\n",
        "  print(tabulate.tabulate(dff_r, tablefmt='fancy_grid',headers=dff_r.columns))\n",
        "  #display_dataframe(dff_r,float)\n",
        "\n",
        "  \n",
        "  a= sns.histplot(dff[var],ax=axis[0],bins=bins);\n",
        "  b= sns.boxplot(dff[var],ax=axis[1]);\n",
        "  c= sns.kdeplot(dff[var],ax=axis[2],hue=df[tar])\n",
        "\n",
        "  a.set_xlabel('')\n",
        "  b.set_xlabel('')\n",
        "  c.set_xlabel('')\n",
        "  a.set_ylabel('')\n",
        "  c.set_ylabel('')\n",
        "\n",
        "  a.set_frame_on(False)\n",
        "  b.set_frame_on(False)\n",
        "  c.set_frame_on(False)\n",
        "\n",
        "else:\n",
        "  fig, axis=plt.subplots(nrows=1,ncols=2)\n",
        "  fig.set_size_inches(20,3)\n",
        "\n",
        "  unq_count_new(dff,var,0,tit,True)\n",
        "  a= sns.countplot(dff[var],ax=axis[0])\n",
        "  b= sns.countplot(dff[var],ax=axis[1],hue=dff[tar])\n",
        "\n",
        "  # ax = sns.countplot(x=tit_df[i] ,ax=axes[j],hue=tit_df[target])\n",
        "  # for p in ax.patches:\n",
        "  #     height = np.nan_to_num(p.get_height())\n",
        "      \n",
        "  #     ax.text(p.get_x()+p.get_width()/2.,\n",
        "  #         height + 3,\n",
        "  #         '{} - {:1.2f}%'.format(height,(height/total)*100),\n",
        "  #         ha=\"center\") "
      ],
      "execution_count": 41,
      "outputs": [
        {
          "output_type": "stream",
          "text": [
            "**** Tenure ****\n",
            "****************\n",
            "\n",
            "╒════════╤═════════╤════════╤═══════╤═══════╤═══════╤═══════╤═══════╤═══════╕\n",
            "│        │   count │   mean │   std │   min │   25% │   50% │   75% │   max │\n",
            "╞════════╪═════════╪════════╪═══════╪═══════╪═══════╪═══════╪═══════╪═══════╡\n",
            "│ Tenure │   11260 │  10.99 │ 12.76 │     0 │     2 │     9 │    16 │    99 │\n",
            "╘════════╧═════════╧════════╧═══════╧═══════╧═══════╧═══════╧═══════╧═══════╛\n"
          ],
          "name": "stdout"
        },
        {
          "output_type": "display_data",
          "data": {
            "image/png": "[encoded data removed]",
            "text/plain": [
              "<Figure size 1440x216 with 3 Axes>"
            ]
          },
          "metadata": {
            "needs_background": "light"
          }
        }
      ]
    },
    {
      "cell_type": "markdown",
      "metadata": {
        "id": "MhG-mLNnOQPN"
      },
      "source": [
        "### Univarient Analsyis"
      ]
    },
    {
      "cell_type": "code",
      "metadata": {
        "id": "YyiGI4As8LOb"
      },
      "source": [
        "def display_unq(dff,var,tar,bins,typevar,tit):\n",
        "  if(typevar=='num'):\n",
        "    fig, axis=plt.subplots(nrows=1,ncols=3)\n",
        "    fig.set_size_inches(20,3)\n",
        "\n",
        "    str1 = f'**** {tit.title()} ****'\n",
        "\n",
        "    width = len(str1)\n",
        "    filler = '*'\n",
        "\n",
        "    print(str1)\n",
        "    print(f'{\"*\" :{filler}>{width}}\\n')\n",
        "\n",
        "    dff_r = pd.DataFrame(round(dff[var].describe(),2)).T\n",
        "    print(tabulate.tabulate(dff_r, tablefmt='fancy_grid',headers=dff_r.columns))\n",
        "    #display_dataframe(dff_r,float)\n",
        "    sns.histplot(dff[var],ax=axis[0],bins=bins);\n",
        "    sns.boxplot(dff[var],ax=axis[1]);\n",
        "    sns.kdeplot(dff[var],ax=axis[2],hue=df[tar])\n",
        "  else:\n",
        "    fig, axis=plt.subplots(nrows=1,ncols=2)\n",
        "    fig.set_size_inches(20,3)\n",
        "\n",
        "    unq_count_new(dff,var,0,tit,True)\n",
        "    sns.countplot(dff[var],ax=axis[0])\n",
        "    sns.countplot(dff[var],ax=axis[1],hue=dff[tar])\n"
      ],
      "execution_count": null,
      "outputs": []
    },
    {
      "cell_type": "code",
      "metadata": {
        "id": "Nk9_P5gXVk5e",
        "colab": {
          "base_uri": "https://localhost:8080/",
          "height": 334
        },
        "outputId": "09943a86-ca8b-43b7-f655-42dbff1c2989"
      },
      "source": [
        "display_unq(df,'Tenure','Churn',10,'num','Tenure')"
      ],
      "execution_count": null,
      "outputs": [
        {
          "output_type": "stream",
          "text": [
            "**** Tenure ****\n",
            "****************\n",
            "\n",
            "╒════════╤═════════╤════════╤═══════╤═══════╤═══════╤═══════╤═══════╤═══════╕\n",
            "│        │   count │   mean │   std │   min │   25% │   50% │   75% │   max │\n",
            "╞════════╪═════════╪════════╪═══════╪═══════╪═══════╪═══════╪═══════╪═══════╡\n",
            "│ Tenure │   11260 │  10.99 │ 12.76 │     0 │     2 │     9 │    16 │    99 │\n",
            "╘════════╧═════════╧════════╧═══════╧═══════╧═══════╧═══════╧═══════╧═══════╛\n"
          ],
          "name": "stdout"
        },
        {
          "output_type": "display_data",
          "data": {
            "image/png": "[encoded data removed]",
            "text/plain": [
              "<Figure size 1440x216 with 3 Axes>"
            ]
          },
          "metadata": {
            "needs_background": "light"
          }
        }
      ]
    },
    {
      "cell_type": "code",
      "metadata": {
        "id": "Gyndp3TSVnl4",
        "colab": {
          "base_uri": "https://localhost:8080/",
          "height": 334
        },
        "outputId": "5bfcc421-84af-4158-da77-9f4a2fe1192a"
      },
      "source": [
        "display_unq(df,'rev_per_month','Churn',10,'num','Rev Per Month')"
      ],
      "execution_count": null,
      "outputs": [
        {
          "output_type": "stream",
          "text": [
            "**** Rev Per Month ****\n",
            "***********************\n",
            "\n",
            "╒═══════════════╤═════════╤════════╤═══════╤═══════╤═══════╤═══════╤═══════╤═══════╕\n",
            "│               │   count │   mean │   std │   min │   25% │   50% │   75% │   max │\n",
            "╞═══════════════╪═════════╪════════╪═══════╪═══════╪═══════╪═══════╪═══════╪═══════╡\n",
            "│ rev_per_month │   11260 │   6.27 │ 11.49 │     1 │     3 │     5 │     7 │   140 │\n",
            "╘═══════════════╧═════════╧════════╧═══════╧═══════╧═══════╧═══════╧═══════╧═══════╛\n"
          ],
          "name": "stdout"
        },
        {
          "output_type": "display_data",
          "data": {
            "image/png": "[encoded data removed]",
            "text/plain": [
              "<Figure size 1440x216 with 3 Axes>"
            ]
          },
          "metadata": {
            "needs_background": "light"
          }
        }
      ]
    },
    {
      "cell_type": "code",
      "metadata": {
        "id": "y0Nhmn-YVs8l",
        "colab": {
          "base_uri": "https://localhost:8080/",
          "height": 334
        },
        "outputId": "ad714044-99de-4f7a-8d28-8d284f31daba"
      },
      "source": [
        "display_unq(df,'cashback','Churn',10,'num','Cashback')"
      ],
      "execution_count": null,
      "outputs": [
        {
          "output_type": "stream",
          "text": [
            "**** Cashback ****\n",
            "******************\n",
            "\n",
            "╒══════════╤═════════╤════════╤════════╤═══════╤═══════╤═══════╤═══════╤═══════╕\n",
            "│          │   count │   mean │    std │   min │   25% │   50% │   75% │   max │\n",
            "╞══════════╪═════════╪════════╪════════╪═══════╪═══════╪═══════╪═══════╪═══════╡\n",
            "│ cashback │   11260 │ 194.92 │ 174.98 │     0 │   148 │   165 │   197 │  1997 │\n",
            "╘══════════╧═════════╧════════╧════════╧═══════╧═══════╧═══════╧═══════╧═══════╛\n"
          ],
          "name": "stdout"
        },
        {
          "output_type": "display_data",
          "data": {
            "image/png": "[encoded data removed]",
            "text/plain": [
              "<Figure size 1440x216 with 3 Axes>"
            ]
          },
          "metadata": {
            "needs_background": "light"
          }
        }
      ]
    },
    {
      "cell_type": "code",
      "metadata": {
        "id": "ibqMH_OgWdgJ",
        "colab": {
          "base_uri": "https://localhost:8080/",
          "height": 334
        },
        "outputId": "cbc02d30-c6c6-4638-d8a3-f585b1b949a5"
      },
      "source": [
        "display_unq(df,'CC_Contacted_LY','Churn',10,'num','CC_Contacted_LY')"
      ],
      "execution_count": null,
      "outputs": [
        {
          "output_type": "stream",
          "text": [
            "**** Cc_Contacted_Ly ****\n",
            "*************************\n",
            "\n",
            "╒═════════════════╤═════════╤════════╤═══════╤═══════╤═══════╤═══════╤═══════╤═══════╕\n",
            "│                 │   count │   mean │   std │   min │   25% │   50% │   75% │   max │\n",
            "╞═════════════════╪═════════╪════════╪═══════╪═══════╪═══════╪═══════╪═══════╪═══════╡\n",
            "│ CC_Contacted_LY │   11260 │  17.85 │  8.81 │     4 │    11 │    16 │    23 │   132 │\n",
            "╘═════════════════╧═════════╧════════╧═══════╧═══════╧═══════╧═══════╧═══════╧═══════╛\n"
          ],
          "name": "stdout"
        },
        {
          "output_type": "display_data",
          "data": {
            "image/png": "[encoded data removed]",
            "text/plain": [
              "<Figure size 1440x216 with 3 Axes>"
            ]
          },
          "metadata": {
            "needs_background": "light"
          }
        }
      ]
    },
    {
      "cell_type": "code",
      "metadata": {
        "id": "TfPZyd_Aae1r",
        "colab": {
          "base_uri": "https://localhost:8080/",
          "height": 470
        },
        "outputId": "78b8efad-310b-49bc-cf33-7657957dd91c"
      },
      "source": [
        "display_unq(df,'Payment','Churn',10,'char','Payment Method')"
      ],
      "execution_count": null,
      "outputs": [
        {
          "output_type": "stream",
          "text": [
            "**** Unique value distribution of Payment Method ******\n",
            "*******************************************************\n",
            "\n",
            "╒══════════════════╤═════════╤═══════════╕\n",
            "│ Payment Method   │   Count │   Percent │\n",
            "╞══════════════════╪═════════╪═══════════╡\n",
            "│ Debit Card       │    4696 │    41.705 │\n",
            "├──────────────────┼─────────┼───────────┤\n",
            "│ Credit Card      │    3511 │    31.181 │\n",
            "├──────────────────┼─────────┼───────────┤\n",
            "│ E wallet         │    1217 │    10.808 │\n",
            "├──────────────────┼─────────┼───────────┤\n",
            "│ Cash on Delivery │    1014 │     9.005 │\n",
            "├──────────────────┼─────────┼───────────┤\n",
            "│ UPI              │     822 │     7.3   │\n",
            "╘══════════════════╧═════════╧═══════════╛\n"
          ],
          "name": "stdout"
        },
        {
          "output_type": "display_data",
          "data": {
            "image/png": "[encoded data removed]",
            "text/plain": [
              "<Figure size 1440x216 with 2 Axes>"
            ]
          },
          "metadata": {
            "needs_background": "light"
          }
        }
      ]
    }
  ]
}